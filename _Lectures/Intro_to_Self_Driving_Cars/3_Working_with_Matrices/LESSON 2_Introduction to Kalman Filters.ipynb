{
 "cells": [
  {
   "cell_type": "markdown",
   "metadata": {},
   "source": [
    "## Kalman Filters"
   ]
  },
  {
   "cell_type": "markdown",
   "metadata": {},
   "source": [
    "### Tracking\n",
    "**Kalman Filter vs. Monte Carlo Localization** <br>\n",
    "Both are used to estimate the state of the agent. <br>\n",
    "* <U>Monte carlo localization</U> is probabilistic localization method.\n",
    "* <U>Monte carlo locatization</U> chops the world into discrete places and then, it is fine with multimodal distributions.\n",
    "* <U>Kalman filter</U> estimates the states in the continuous space so that it gives us unimodal distributions.\n",
    "* <U>Kalman filter</U> uses Gaussian distribution as belief distribution.\n",
    "\n",
    "**Particle Filter**<br>\n",
    "* continuous \n",
    "* multimodal distributions"
   ]
  },
  {
   "cell_type": "markdown",
   "metadata": {},
   "source": [
    "### Localization (from the last class)\n",
    "\n",
    "**Localization** iterates measurement (update) and motion (update) [prediction] repeatedly and performing a measurement meant updating our belief by a <U>multiplicative</U> factor, while motion involved performing a <U>convolution</U>. <br><br>\n",
    "\n",
    "Measurement meant updating our belief (and renormalizing our distribution) so it follows Bayes' rule. Motion meant keeping track of where all of our probability \"went\" when we moved (which meant using the law of Total Probability). <br><br>\n",
    "\n",
    "The iteration of measurement update and prediction can be closed as formulas by the Gaussian."
   ]
  },
  {
   "cell_type": "markdown",
   "metadata": {},
   "source": [
    "### Parameter updates\n",
    "\n",
    "<img src='./figs/gaussian_mul.png'>\n",
    "\n",
    "* p(x): prior distribution ~ G($\\mu$, $\\sigma^2$) \n",
    "* p(z|x): measurement distribution ~ G($\\nu$, $r^2$)\n",
    "* p(x|z): posterior distribution ~ G($\\mu'$, $\\sigma'^2$)\n",
    "<br>\n",
    "\n",
    "<center>$\\mu' = \\frac{r^2\\mu + \\sigma^2\\nu} {r^2 + \\sigma^2},\n",
    "\\sigma' = \\frac{1} {\\frac{1} {r^2} + \\frac{1} {\\sigma^2}}$</center>\n",
    "\n",
    "Notice that the new mean is <U>BETWEEN</U> the previous two means and the new variance is <U>LESS</U> than either of the previous variances because measurement always improves the uncertainty."
   ]
  },
  {
   "cell_type": "markdown",
   "metadata": {},
   "source": [
    "### Motion updates\n",
    "\n",
    "<img src='./figs/motion_update.png'>\n",
    "\n",
    "* Blue distribution: initial belief ~ ($\\mu$, $\\sigma^2$) \n",
    "* Green distribution: motion distribution ~ ($u$, $r^2$) \n",
    "* Red distribution: distribution after certain motion ($\\mu'$, $\\sigma'^2$) \n",
    "\n",
    "Since it takes the motion, it loses the information. Thus, the uncertainty increases.\n",
    "<br>\n",
    "<center> $\\mu' = \\mu + u$, $\\sigma^2 = \\sigma^2 + r^2$\n"
   ]
  },
  {
   "cell_type": "markdown",
   "metadata": {},
   "source": [
    "### 1-D Kalman Filter code"
   ]
  },
  {
   "cell_type": "code",
   "execution_count": 5,
   "metadata": {},
   "outputs": [
    {
     "name": "stdout",
     "output_type": "stream",
     "text": [
      "update: [4.998000799680128, 3.9984006397441023]\n",
      "predict: [5.998000799680128, 5.998400639744102]\n",
      "update: [5.999200191953932, 2.399744061425258]\n",
      "predict: [6.999200191953932, 4.399744061425258]\n",
      "update: [6.999619127420922, 2.0951800575117594]\n",
      "predict: [8.999619127420921, 4.09518005751176]\n",
      "update: [8.999811802788143, 2.0235152416216957]\n",
      "predict: [9.999811802788143, 4.023515241621696]\n",
      "update: [9.999906177177365, 2.0058615808441944]\n",
      "predict: [10.999906177177365, 4.005861580844194]\n",
      "[10.999906177177365, 4.005861580844194]\n"
     ]
    }
   ],
   "source": [
    "# Write a program that will iteratively update and\n",
    "# predict based on the location measurements \n",
    "# and inferred motions shown below. \n",
    "\n",
    "def update(mean1, var1, mean2, var2):\n",
    "    new_mean = float(var2 * mean1 + var1 * mean2) / (var1 + var2)\n",
    "    new_var = 1./(1./var1 + 1./var2)\n",
    "    return [new_mean, new_var]\n",
    "\n",
    "def predict(mean1, var1, mean2, var2):\n",
    "    new_mean = mean1 + mean2\n",
    "    new_var = var1 + var2\n",
    "    return [new_mean, new_var]\n",
    "\n",
    "measurements = [5., 6., 7., 9., 10.]\n",
    "motion = [1., 1., 2., 1., 1.]\n",
    "measurement_sig = 4.\n",
    "motion_sig = 2.\n",
    "mu = 0.\n",
    "sig = 10000.\n",
    "\n",
    "#Please print out ONLY the final values of the mean\n",
    "#and the variance in a list [mu, sig]. \n",
    "\n",
    "# Insert code here\n",
    "for i in range(len(measurements)):\n",
    "    [mu, sig] = update(mu, sig, measurements[i], measurement_sig)\n",
    "    print('update:', [mu, sig])\n",
    "    [mu, sig] = predict(mu, sig, motion[i], motion_sig)\n",
    "    print('predict:', [mu, sig])"
   ]
  },
  {
   "cell_type": "code",
   "execution_count": null,
   "metadata": {},
   "outputs": [],
   "source": []
  }
 ],
 "metadata": {
  "kernelspec": {
   "display_name": "Python 3",
   "language": "python",
   "name": "python3"
  },
  "language_info": {
   "codemirror_mode": {
    "name": "ipython",
    "version": 3
   },
   "file_extension": ".py",
   "mimetype": "text/x-python",
   "name": "python",
   "nbconvert_exporter": "python",
   "pygments_lexer": "ipython3",
   "version": "3.6.5"
  }
 },
 "nbformat": 4,
 "nbformat_minor": 2
}
