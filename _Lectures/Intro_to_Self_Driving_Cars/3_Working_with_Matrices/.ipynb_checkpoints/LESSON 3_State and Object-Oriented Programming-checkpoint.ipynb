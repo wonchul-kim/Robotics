{
 "cells": [
  {
   "cell_type": "markdown",
   "metadata": {},
   "source": [
    "### Motion model\n",
    "**Kinematics** is the study of the motion of objects. Motion models are also referred to as kinematic equations, and these equations give you all the information you need to be able to predict the motion of a car."
   ]
  },
  {
   "cell_type": "markdown",
   "metadata": {},
   "source": [
    "### Lesson Outline\n",
    "\n",
    "1. Object-Oriented Programming\n",
    "\n",
    "On the programming side, we’ll use something called Object-Oriented Programming as a way to represent state in code. We’ll use variables to represent state values and we’ll create functions to change those values.\n",
    "\n",
    "2. Linear Algebra\n",
    "\n",
    "On the mathematical side we’ll use vectors and matrices to keep track of state and change it.We’ll learn all the necessary math notation and code, as we learn more about predicting the state of a car!\n"
   ]
  },
  {
   "cell_type": "code",
   "execution_count": null,
   "metadata": {},
   "outputs": [],
   "source": []
  }
 ],
 "metadata": {
  "kernelspec": {
   "display_name": "Python 3",
   "language": "python",
   "name": "python3"
  },
  "language_info": {
   "codemirror_mode": {
    "name": "ipython",
    "version": 3
   },
   "file_extension": ".py",
   "mimetype": "text/x-python",
   "name": "python",
   "nbconvert_exporter": "python",
   "pygments_lexer": "ipython3",
   "version": "3.6.5"
  }
 },
 "nbformat": 4,
 "nbformat_minor": 2
}
