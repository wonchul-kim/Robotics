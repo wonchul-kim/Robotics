{
 "cells": [
  {
   "cell_type": "markdown",
   "metadata": {},
   "source": [
    "## Multivariate Gaussian\n",
    "\n"
   ]
  },
  {
   "cell_type": "markdown",
   "metadata": {},
   "source": [
    "## More Kalman Filters\n",
    "[![Video Label](http://img.youtube.com/vi/hUnTg5v4tDU/0.jpg)](https://www.youtube.com/watch?v=hUnTg5v4tDU) \n",
    "\n",
    "There is an error in this video in the discussion between 1:52 and 2:10. The new predicted Gaussians should lie on the horizontal line x_dot = 1 instead of the diagonal line as they are drawn in the video. The reason for this is that we are assuming a model of constant velocity instead of acceleration.\n",
    "\n",
    "In addition, the formula $x' = x + \\dot{x}$ shown a 2:30 should include a multiplication by time units: $x' = x + \\dot{x}\\Delta{t}$\n"
   ]
  },
  {
   "cell_type": "markdown",
   "metadata": {},
   "source": [
    "In above previous video, <br> \n",
    "\n",
    "$x′= x+ \\dot{x}\\Delta{t}$ <br>\n",
    "\n",
    "saying that the x position after motion ($x′$) is equal to the x position before motion ($x$) plus the velocity in the $x$ direction ($\\dot{x}$) for $\\Delta{t}$.\n"
   ]
  },
  {
   "cell_type": "markdown",
   "metadata": {},
   "source": [
    "## Kalman Filter Design\n",
    "\n",
    "### 1. 1-D example,\n",
    "First, from the physics equation, $x' = x + \\dot{x}\\Delta{t}$ and $/dot{x'} = \\dot{x}$ for the constant velocity, we can make it as matrices equation such as\n",
    "\n",
    "$$\n",
    "\\left(\\begin{array}{c} \n",
    "x\\\\ \n",
    "\\dot{x'}\n",
    "\\end{array}\\right)\n",
    "=\n",
    "\\left(\\begin{array}{cc} \n",
    "1 & \\Delta{t}\\\\\n",
    "0 & 1\n",
    "\\end{array}\\right)\n",
    "\\left(\\begin{array}{c} \n",
    "x\\\\ \n",
    "\\dot{x}\n",
    "\\end{array}\\right)\n",
    "$$\n",
    "\n",
    "and the measurement equation for the position $x$, \n",
    "$$\n",
    "z = \n",
    "\\left(\\begin{array}{c} \n",
    "1 & 0\n",
    "\\end{array}\\right)\n",
    "\\left(\\begin{array}{c} \n",
    "x\\\\ \n",
    "\\dot{x}\n",
    "\\end{array}\\right)\n",
    "$$ \n",
    "\n",
    "$\\left(\\begin{array}{cc} \n",
    "1 & \\Delta{t}\\\\\n",
    "0 & 1\n",
    "\\end{array}\\right)\n",
    "$ is referred to as $F$ and \n",
    "$\\left(\\begin{array}{cc} \n",
    "1 & 0\n",
    "\\end{array}\\right)$\n",
    "is referred to as $H$."
   ]
  },
  {
   "cell_type": "markdown",
   "metadata": {},
   "source": [
    "<img src='./figs/kalman_update.png'>\n",
    "\n",
    "[![Video Label](http://img.youtube.com/vi/KYEr4BXhD_E/0.jpg)](https://https://youtu.be/KYEr4BXhD_E) "
   ]
  },
  {
   "cell_type": "markdown",
   "metadata": {},
   "source": [
    "### 2. Kalman Filter Equations\n",
    "\n",
    "Simplifying the kalman filter equations:\n",
    "\n",
    "<img src='./figs/update.png'>\n",
    "\n",
    "(the lower case variables indicate vectors while upper case variables indicate matrices.)"
   ]
  },
  {
   "cell_type": "markdown",
   "metadata": {},
   "source": [
    "#### Kalman Filter Equations $Fx$ versus $Bu$\n",
    "\n",
    "This equation is the move function that updates beliefs in between sensor measurements. $Fx$ models motion based on velocity, acceleration, angular velocity, etc of the object we are tracking.\n",
    "\n",
    "$B$ is called the control matrix and $u$ is the control vector. $Bu$ measures extra forces on the object we are tracking. An example would be if a robot was receiving direct commands to move in a specific direction, and you knew what those commands were and when they occurred. Like if we told our robot to move backwards 10 feet, we could model this with the $Bu$ term.\n",
    "\n",
    "When we take the self-driving car engineer nanodegree, we'll use Kalman filters to track objects that are moving around our vehicle like other cars, pedestrians, bicyclists, etc. In those cases, we would ignore $Bu$ because we do not have control over the movement of other objects. The Kalman filter equation becomes $x′=Fx$.\n",
    "\n"
   ]
  },
  {
   "cell_type": "markdown",
   "metadata": {},
   "source": [
    "#### Representing State with Matrices\n",
    "* The State Vector\n",
    "\n",
    "The constant velocity motion model:\n",
    "\n",
    "$distance = velocity × time$\n",
    "\n",
    "The vehicle's state is represented by the two variables distance and velocity and it looks like the below in Python:\n",
    "\n",
    "`` state = [distance, velocity]``\n",
    "\n",
    "This can be called a vector which is represented by a list.\n",
    "\n",
    "With 2-D state vector, it looks like:\n",
    "\n",
    "`` state = [distance_x, distance_y, velocity_x, velocity_y]``\n",
    "\n",
    "or, \n",
    "\n",
    "``state = [distance_x, distance_y, velocity_x, velocity_y, angle, angle_rate]`` \n",
    "\n"
   ]
  },
  {
   "cell_type": "markdown",
   "metadata": {},
   "source": [
    "#### Kalman Filter Noations\n",
    "<img src='./figs/kalman1.png'>\n",
    "<img src='./figs/kalman2.png'>"
   ]
  },
  {
   "cell_type": "markdown",
   "metadata": {},
   "source": [
    "#### What is a vector? Physics versus Computer Programming\n",
    "\n",
    "You might have learned at some point that a vector is a measurement or quantity that has both a magnitude and a direction. Examples might be distance along a y-axis or velocity towards the north-west.\n",
    "\n",
    "But in computer programming, when we say \"vector\" we are just referring a list of values.\n",
    "\n",
    "* Vectors, Motion Models and Kalman Filters in Self-Driving Cars\n",
    "\n",
    "In a physics class, you might have one vector for position and then a separate vector for velocity. But in computer programming, a vector is really just a list of values.\n",
    "\n",
    "When using the Kalman filter equations, the bold, lower-case variable $\\mathbf{x}$ represents a vector in the computer programming sense of the word. The $\\mathbf{x}$ vector holds the values that represent your motion model such as position and velocity.\n",
    "\n",
    "In a basic motion model, the vector $\\mathbf{x}$ will contain information about position and linear velocity like: $\\mathbf{x}=[x, y, v_x, v_y]$. In a physics class, these might be represented with two different vectors: a position vector and a velocity vector.\n",
    "\n",
    "A more complex motion model might take into account yaw rate, which considers a rotational angle and angular velocity around the center of the vehicle like $\\mathbf{x} = [x, y, v_x, v_y, \\psi, \\dot{\\psi}]$.\n",
    "\n",
    "**Note that any vector can also be thought of as a matrix**"
   ]
  },
  {
   "cell_type": "markdown",
   "metadata": {},
   "source": [
    "#### Matrix Multiplication"
   ]
  },
  {
   "cell_type": "code",
   "execution_count": 1,
   "metadata": {},
   "outputs": [],
   "source": [
    "def get_row(matrix, row):\n",
    "    return matrix[row]\n",
    "\n",
    "def get_column(matrix, column_number):\n",
    "    column = []\n",
    "    for r in range(len(matrix)):\n",
    "        column.append(matrix[r][column_number])\n",
    "\n",
    "    return column\n",
    "\n",
    "def dot_product(vector_one, vector_two):\n",
    "    result = 0\n",
    "    \n",
    "    for i in range(len(vector_one)):\n",
    "        result += vector_one[i] * vector_two[i]\n",
    "\n",
    "    return result\n",
    "\n",
    "def matrix_multiplication(matrixA, matrixB):\n",
    "    \n",
    "    # Store the number of rows in A and the number of columns in B.\n",
    "    # This will be the size of the output matrix\n",
    "    m_rows = len(matrixA)\n",
    "    p_columns = len(matrixB[0])\n",
    "    \n",
    "    # empty list that will hold the product of AxB\n",
    "    result = []\n",
    "\n",
    "    \n",
    "    # For loop within a for loop. The outside for loop will \n",
    "    # iterate through m_rows. The inside for loop will iterate \n",
    "    # through p_columns.\n",
    "    for r in range(m_rows):\n",
    "        # Accumulate the values of a row (reset each loop)\n",
    "        row_result = []\n",
    "        # Grab current A row\n",
    "        rowA = get_row(matrixA, r)\n",
    "        \n",
    "        for c in range(p_columns):\n",
    "            # Grab current B column\n",
    "            colB = get_column(matrixB, c)\n",
    "            # Calculate the dot product of the A row and the B column\n",
    "            dot_prod = dot_product(rowA, colB)\n",
    "            # And append to row_result\n",
    "            row_result.append(dot_prod)\n",
    "    \n",
    "        # Add the row_result to the result matrix\n",
    "        result.append(row_result)\n",
    "\n",
    "    return result"
   ]
  },
  {
   "cell_type": "code",
   "execution_count": 2,
   "metadata": {},
   "outputs": [],
   "source": [
    "assert matrix_multiplication([[5], [2]], [[5, 1]]) == [[25, 5], [10, 2]]\n",
    "assert matrix_multiplication([[5, 1]], [[5], [2]]) == [[27]]\n",
    "assert matrix_multiplication([[4]], [[3]]) == [[12]]\n",
    "assert matrix_multiplication([[2, 1, 8, 2, 1], [5, 6, 4, 2, 1]], [[1, 7, 2], [2, 6, 3], [3, 1, 1], [1, 20, 1], [7, 4, 16]]) == [[37, 72, 33], [38, 119, 50]]"
   ]
  },
  {
   "cell_type": "markdown",
   "metadata": {},
   "source": [
    "#### Transpose of a Matrix"
   ]
  },
  {
   "cell_type": "code",
   "execution_count": 3,
   "metadata": {},
   "outputs": [],
   "source": [
    "def transpose(matrix):\n",
    "    matrix_transpose = []\n",
    "    # Loop through columns on outside loop\n",
    "    for c in range(len(matrix[0])):\n",
    "        new_row = []\n",
    "        # Loop through columns on inner loop\n",
    "        for r in range(len(matrix)):\n",
    "            # Column values will be filled by what were each row before\n",
    "            new_row.append(matrix[r][c])\n",
    "        matrix_transpose.append(new_row)\n",
    "    \n",
    "    return matrix_transpose"
   ]
  },
  {
   "cell_type": "code",
   "execution_count": 4,
   "metadata": {},
   "outputs": [],
   "source": [
    "assert transpose([[5, 4, 1, 7], [2, 1, 3, 5]]) == [[5, 2], [4, 1], [1, 3], [7, 5]]\n",
    "assert transpose([[5]]) == [[5]]\n",
    "assert transpose([[5, 3, 2], [7, 1, 4], [1, 1, 2], [8, 9, 1]]) == [[5, 7, 1, 8], [3, 1, 1, 9], [2, 4, 2, 1]]"
   ]
  },
  {
   "cell_type": "code",
   "execution_count": 5,
   "metadata": {},
   "outputs": [],
   "source": [
    "def dot_product(vectorA, vectorB):\n",
    "    result = 0\n",
    "    \n",
    "    for i in range(len(vectorA)):\n",
    "        result += vectorA[i] * vectorB[i]\n",
    "        \n",
    "    return result\n",
    "\n",
    "# Takes in two matrices and outputs the product of the two matrices\n",
    "def matrix_multiplication(matrixA, matrixB):\n",
    "    product = []\n",
    "\n",
    "    # Take the transpose of matrixB and store the result\n",
    "    transposeB = transpose(matrixB)\n",
    "    \n",
    "    # Use a nested for loop to iterate through the rows\n",
    "    # of matrix A and the rows of the tranpose of matrix B\n",
    "    for r1 in range(len(matrixA)):\n",
    "        new_row = []\n",
    "        for r2 in range(len(transposeB)):\n",
    "            # Calculate the dot product between each row of matrix A\n",
    "            # with each row in the transpose of matrix B\n",
    "            dp = dot_product(matrixA[r1], transposeB[r2])\n",
    "            new_row.append(dp)\n",
    "        # Store the results in the product variable\n",
    "        product.append(new_row)\n",
    "\n",
    "    return product"
   ]
  },
  {
   "cell_type": "code",
   "execution_count": 6,
   "metadata": {},
   "outputs": [],
   "source": [
    "assert matrix_multiplication([[5, 3, 1], \n",
    "                              [6, 2, 7]], \n",
    "                             [[4, 2], \n",
    "                              [8, 1], \n",
    "                              [7, 4]]) == [[51, 17], \n",
    "                                           [89, 42]]\n",
    "\n",
    "assert matrix_multiplication([[5]], [[4]]) == [[20]]\n",
    "\n",
    "assert matrix_multiplication([[2, 8, 1, 2, 9],\n",
    "                             [7, 9, 1, 10, 5],\n",
    "                             [8, 4, 11, 98, 2],\n",
    "                             [5, 5, 4, 4, 1]], \n",
    "                             [[4], \n",
    "                              [2], \n",
    "                              [17], \n",
    "                              [80], \n",
    "                              [2]]) == [[219], [873], [8071], [420]]\n",
    "\n",
    "\n",
    "assert matrix_multiplication([[2, 8, 1, 2, 9],\n",
    "                             [7, 9, 1, 10, 5],\n",
    "                             [8, 4, 11, 98, 2],\n",
    "                             [5, 5, 4, 4, 1]], \n",
    "                             [[4, 1, 2], \n",
    "                              [2, 3, 1], \n",
    "                              [17, 8, 1], \n",
    "                              [1, 3, 0], \n",
    "                              [2, 1, 4]]) == [[61, 49, 49], [83, 77, 44], [329, 404, 39], [104, 65, 23]]"
   ]
  },
  {
   "cell_type": "markdown",
   "metadata": {},
   "source": [
    "#### Identity Matrix"
   ]
  },
  {
   "cell_type": "code",
   "execution_count": 7,
   "metadata": {},
   "outputs": [],
   "source": [
    "def identity_matrix(n):\n",
    "    '''\n",
    "    Creates an identity matrix of size n x n.\n",
    "\n",
    "    INPUT\n",
    "    * n - size of the Identity matrix\n",
    "\n",
    "    OUPUT\n",
    "    * identity matrix as a list of lists\n",
    "    '''\n",
    "    identity = []\n",
    "    \n",
    "    for r in range(n):\n",
    "        new_row = []\n",
    "        for c in range(n):\n",
    "            if r == c: # Diagonals are only ones\n",
    "                new_row.append(1)\n",
    "            else: # Everything else is zero\n",
    "                new_row.append(0)\n",
    "        identity.append(new_row)\n",
    "    \n",
    "    return identity"
   ]
  },
  {
   "cell_type": "code",
   "execution_count": 8,
   "metadata": {},
   "outputs": [],
   "source": [
    "assert identity_matrix(1) == [[1]]\n",
    "\n",
    "assert identity_matrix(2) == [[1, 0], \n",
    "                             [0, 1]]\n",
    "\n",
    "assert identity_matrix(3) == [[1, 0, 0],\n",
    "                             [0, 1, 0],\n",
    "                             [0, 0, 1]]\n",
    "\n",
    "assert identity_matrix(4) == [[1, 0, 0, 0],\n",
    "                             [0, 1, 0, 0],\n",
    "                             [0, 0, 1, 0],\n",
    "                             [0, 0, 0, 1]]"
   ]
  },
  {
   "cell_type": "code",
   "execution_count": 9,
   "metadata": {},
   "outputs": [],
   "source": [
    "def transpose(matrix):\n",
    "    matrix_transpose = []\n",
    "    for c in range(len(matrix[0])):\n",
    "        new_row = []\n",
    "        for r in range(len(matrix)):\n",
    "            new_row.append(matrix[r][c])\n",
    "        matrix_transpose.append(new_row)\n",
    "    \n",
    "    return matrix_transpose\n",
    "\n",
    "def dot_product(vectorA, vectorB):\n",
    "    result = 0\n",
    "    \n",
    "    for i in range(len(vectorA)):\n",
    "        result += vectorA[i] * vectorB[i]\n",
    "        \n",
    "    return result\n",
    "\n",
    "def matrix_multiplication(matrixA, matrixB):\n",
    "    product = []\n",
    "\n",
    "    transposeB = transpose(matrixB)\n",
    "\n",
    "    for r1 in range(len(matrixA)):\n",
    "        new_row = []\n",
    "        for r2 in range(len(transposeB)):\n",
    "            dp = dot_product(matrixA[r1], transposeB[r2])\n",
    "            new_row.append(dp)\n",
    "        product.append(new_row)\n",
    "\n",
    "    return product"
   ]
  },
  {
   "cell_type": "code",
   "execution_count": 10,
   "metadata": {},
   "outputs": [],
   "source": [
    "m = [[5, 9, 2, 4],\n",
    "     [3, 8, 5, 6],\n",
    "     [1, 0, 0, 15]]\n",
    "\n",
    "assert matrix_multiplication(m, identity_matrix(4)) == m\n",
    "assert matrix_multiplication(identity_matrix(3), m) == m"
   ]
  },
  {
   "cell_type": "markdown",
   "metadata": {},
   "source": [
    "#### Inverse Matrix\n",
    "\n",
    "* The matrix must be square"
   ]
  },
  {
   "cell_type": "code",
   "execution_count": null,
   "metadata": {},
   "outputs": [],
   "source": []
  }
 ],
 "metadata": {
  "kernelspec": {
   "display_name": "Python 3",
   "language": "python",
   "name": "python3"
  },
  "language_info": {
   "codemirror_mode": {
    "name": "ipython",
    "version": 3
   },
   "file_extension": ".py",
   "mimetype": "text/x-python",
   "name": "python",
   "nbconvert_exporter": "python",
   "pygments_lexer": "ipython3",
   "version": "3.6.5"
  }
 },
 "nbformat": 4,
 "nbformat_minor": 2
}
