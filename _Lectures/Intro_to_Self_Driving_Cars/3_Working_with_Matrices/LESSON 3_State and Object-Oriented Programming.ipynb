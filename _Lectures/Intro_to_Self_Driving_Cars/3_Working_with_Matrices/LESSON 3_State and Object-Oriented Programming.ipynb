{
 "cells": [
  {
   "cell_type": "markdown",
   "metadata": {},
   "source": [
    "## Motion model\n",
    "**Kinematics** is the study of the motion of objects. Motion models are also referred to as kinematic equations, and these equations give you all the information you need to be able to predict the motion of a car."
   ]
  },
  {
   "cell_type": "markdown",
   "metadata": {},
   "source": [
    "## Object-Oriented Programming\n",
    "\n",
    "On the programming side, Object-Oriented Programming is a way to represent state in code by using variables to represent state values creating functions to change those values.\n",
    "\n",
    "## Linear Algebra\n",
    "\n",
    "On the mathematical side,  vectors and matrices are used to keep track of state and change it. "
   ]
  },
  {
   "cell_type": "markdown",
   "metadata": {},
   "source": [
    "## Overloading Functions\n",
    "\n",
    "* The double undersocre `__x__` such as `__init__`,  `__repr__`.\n",
    "\n",
    "Python calls them automatically based on use of keywords and operators. For example, `__init__` is called when we create a new object and `__repr__` is called when we tell Python to print the string representation of a specific object!\n",
    "\n",
    "All of these special functions have their names written between double underscores `__`, and there are many of these types of functions! To see the full list of these functions, check out the [Python documentation](https://docs.python.org/3/reference/datamodel.html#special-method-names).\n",
    "\n",
    "* **Operator Overloading** <br>\n",
    "\n",
    "When we define these functions in our class, this is called operator overloading. And, in this case, overloading just means: giving more than one meaning to a standard operator like addition."
   ]
  },
  {
   "cell_type": "code",
   "execution_count": 1,
   "metadata": {},
   "outputs": [],
   "source": [
    "import matplotlib.pyplot as plt\n",
    "'''\n",
    "The color class creates a color from 3 values, r, g, and b (red, green, and blue).\n",
    "\n",
    "attributes:\n",
    "    r - a value between 0-255 for red\n",
    "    g - a value between 0-255 for green\n",
    "    b - a value between 0-255 for blue\n",
    "'''\n",
    "\n",
    "class Color(object):\n",
    "\n",
    "    # Initializes a color with rgb values\n",
    "    def __init__(self, r, g, b):\n",
    "        self.r = r\n",
    "        self.g = g\n",
    "        self.b = b\n",
    "\n",
    "    # Called when a Color object is printed out\n",
    "    def __repr__(self):\n",
    "        '''Display a color swatch and returns a text description of r,g,b values'''\n",
    "        \n",
    "        plt.imshow([[(self.r/255, self.g/255, self.b/255)]])\n",
    "        \n",
    "        return 'r, g, b = ' + str(self.r) + ', ' + str(self.g) + ', ' + str(self.b)\n",
    "    \n",
    "\n",
    "    ## Adds two colors together\n",
    "    def __add__(self, other):\n",
    "        '''Adds the r, g, and b components of each color together \n",
    "           and averaging them. \n",
    "           The new Color object, with these averaged rgb values, \n",
    "           is returned.'''\n",
    "        new_r = (self.r + other.r) / 2\n",
    "        new_g = (self.g + other.g) / 2\n",
    "        new_b = (self.b + other.b) / 2\n",
    "\n",
    "        return Color(new_r, new_g, new_b)\n"
   ]
  },
  {
   "cell_type": "code",
   "execution_count": 3,
   "metadata": {},
   "outputs": [],
   "source": [
    "# Notice we are importing the color class!\n",
    "\n",
    "import numpy as np\n",
    "\n",
    "%matplotlib inline\n",
    "\n",
    "# Auto-reload function so that this notebook keeps up with \n",
    "# changes in the class file \n",
    "%load_ext autoreload\n",
    "%autoreload 2"
   ]
  },
  {
   "cell_type": "code",
   "execution_count": 6,
   "metadata": {},
   "outputs": [],
   "source": [
    "color1 = Color(250, 0, 0)\n",
    "color2 = Color(0, 50, 200)"
   ]
  },
  {
   "cell_type": "code",
   "execution_count": 7,
   "metadata": {},
   "outputs": [
    {
     "name": "stdout",
     "output_type": "stream",
     "text": [
      "r, g, b = 250, 0, 0\n"
     ]
    },
    {
     "data": {
      "image/png": "[encoded data removed]",
      "text/plain": [
       "<Figure size 432x288 with 1 Axes>"
      ]
     },
     "metadata": {
      "needs_background": "light"
     },
     "output_type": "display_data"
    }
   ],
   "source": [
    "print(color1)"
   ]
  },
  {
   "cell_type": "code",
   "execution_count": 8,
   "metadata": {},
   "outputs": [
    {
     "name": "stdout",
     "output_type": "stream",
     "text": [
      "r, g, b = 0, 50, 200\n"
     ]
    },
    {
     "data": {
      "image/png": "[encoded data removed]",
      "text/plain": [
       "<Figure size 432x288 with 1 Axes>"
      ]
     },
     "metadata": {
      "needs_background": "light"
     },
     "output_type": "display_data"
    }
   ],
   "source": [
    "print(color2)"
   ]
  },
  {
   "cell_type": "markdown",
   "metadata": {},
   "source": [
    "#### Add the two colors and visualize the result!\n",
    "\n",
    "Once you've implemented the `__add__` function in the color class, you should be able to add colors with a `+` operator and display the result!\n",
    "\n",
    "Remember, to go back to all your files, click on the orange Jupyter icon at the top left of this notebook!\n"
   ]
  },
  {
   "cell_type": "code",
   "execution_count": 10,
   "metadata": {},
   "outputs": [
    {
     "name": "stdout",
     "output_type": "stream",
     "text": [
      "r, g, b = 125.0, 25.0, 100.0\n"
     ]
    },
    {
     "data": {
      "image/png": "[encoded data removed]",
      "text/plain": [
       "<Figure size 432x288 with 1 Axes>"
      ]
     },
     "metadata": {
      "needs_background": "light"
     },
     "output_type": "display_data"
    }
   ],
   "source": [
    "# Add the two colors to create a *new* color object\n",
    "new_color = color1 + color2\n",
    "print(new_color)"
   ]
  },
  {
   "cell_type": "markdown",
   "metadata": {},
   "source": [
    "## State Vector\n",
    "\n",
    "A vector is similar to a list in Python, in that it contains multiple values, but they are mathematically very different. <br>\n",
    "\n",
    "A **state vector** is a column of values whose dimensions are 1 in width and M in height. This vector should contain all the values that we are interested in, and for predicting 1D movement, we are interested in the position, x, and the velocity, v.\n",
    "\n",
    "* For 1-D\n",
    "<img src='./figs/state.png'>\n",
    "\n",
    "* For 2-D \n",
    "\n",
    "(1) x and y are <U>independent</U>\n",
    "<img src='./figs/2dstate.png'>\n",
    "\n",
    "This kind of multiplication can be really useful, if x and y are not dependent on one another. That is, there is a separate and constant x-velocity and y-velocity component. For real-world, curved and continuous motion, we still use a state vector that is one column, so that we can handle any x-y dependencies. \n",
    "\n",
    "(2) x and y are <U>dependent</U>\n",
    "<img src='./figs/2dstate2.png'>\n",
    "These extra spaces in the matrix allow for more detailed motion models and can account for a x and y dependence on one another (just think of the case of circular motion). **So, state vectors are always column vectors.**"
   ]
  },
  {
   "cell_type": "code",
   "execution_count": null,
   "metadata": {},
   "outputs": [],
   "source": []
  }
 ],
 "metadata": {
  "kernelspec": {
   "display_name": "Python 3",
   "language": "python",
   "name": "python3"
  },
  "language_info": {
   "codemirror_mode": {
    "name": "ipython",
    "version": 3
   },
   "file_extension": ".py",
   "mimetype": "text/x-python",
   "name": "python",
   "nbconvert_exporter": "python",
   "pygments_lexer": "ipython3",
   "version": "3.6.5"
  }
 },
 "nbformat": 4,
 "nbformat_minor": 2
}
