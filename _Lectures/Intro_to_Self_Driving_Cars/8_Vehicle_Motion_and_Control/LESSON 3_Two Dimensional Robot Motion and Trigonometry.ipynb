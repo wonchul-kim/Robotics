{
 "cells": [
  {
   "cell_type": "markdown",
   "metadata": {},
   "source": [
    "### Plotting Robot Motion (right angle only)\n"
   ]
  },
  {
   "cell_type": "code",
   "execution_count": 4,
   "metadata": {},
   "outputs": [],
   "source": [
    "from matplotlib import pyplot as plt\n",
    "\n",
    "class Vehicle:\n",
    "    def __init__(self):\n",
    "        \"\"\"\n",
    "        Creates new vehicle at (0,0) with a heading pointed East.\n",
    "        \"\"\"\n",
    "        self.x       = 0 # meters\n",
    "        self.y       = 0\n",
    "        self.heading = \"E\" # Can be \"N\", \"S\", \"E\", or \"W\"\n",
    "        self.history = []\n",
    "        \n",
    "    # TODO-1 - Implement this function \n",
    "    def drive_forward(self, displacement):\n",
    "        \"\"\"\n",
    "        Updates x and y coordinates of vehicle based on \n",
    "        heading and appends previous (x,y) position to\n",
    "        history.\n",
    "        \"\"\"\n",
    "        \n",
    "        # this line appends the current (x,y) coordinates\n",
    "        # to the vehicle's history. Useful for plotting \n",
    "        # the vehicle's trajectory. You shouldn't need to\n",
    "        # change this line.\n",
    "        self.history.append((self.x, self.y))\n",
    "        \n",
    "        # vehicle currently pointing east...\n",
    "        if   self.heading == \"E\":\n",
    "            self.x += displacement\n",
    "        \n",
    "        # north\n",
    "        elif self.heading == \"N\":\n",
    "            self.y += displacement\n",
    "        \n",
    "        # west\n",
    "        elif self.heading == \"W\":\n",
    "            self.x -= displacement\n",
    "        \n",
    "        # south\n",
    "        else:\n",
    "            self.y -= displacement\n",
    "        \n",
    "    def turn(self, direction):\n",
    "        if direction == \"L\":\n",
    "            self.turn_left()\n",
    "        elif direction == \"R\":\n",
    "            self.turn_right()\n",
    "        else:\n",
    "            print(\"Error. Direction must be 'L' or 'R'\")\n",
    "            return\n",
    "        \n",
    "    def turn_left(self):\n",
    "        \"\"\"\n",
    "        Updates heading (for a left turn) based on current heading\n",
    "        \"\"\"\n",
    "        next_heading = {\n",
    "            \"N\" : \"W\",\n",
    "            \"W\" : \"S\",\n",
    "            \"S\" : \"E\",\n",
    "            \"E\" : \"N\",\n",
    "        }\n",
    "        self.heading = next_heading[self.heading]\n",
    "        \n",
    "    \n",
    "    # TODO-2 - implement this function\n",
    "    def turn_right(self):\n",
    "        next_heading = {\n",
    "            \"N\" : \"E\",\n",
    "            \"W\" : \"N\",\n",
    "            \"S\" : \"W\",\n",
    "            \"E\" : \"S\",\n",
    "        }\n",
    "        self.heading = next_heading[self.heading]\n",
    "            \n",
    "    def show_trajectory(self):\n",
    "        \"\"\"\n",
    "        Creates a scatter plot of vehicle's trajectory.\n",
    "        \"\"\"\n",
    "        X = [p[0] for p in self.history]\n",
    "        Y = [p[1] for p in self.history]\n",
    "        \n",
    "        X.append(self.x)\n",
    "        Y.append(self.y)\n",
    "        \n",
    "        plt.scatter(X,Y)\n",
    "        plt.plot(X,Y)\n",
    "        plt.show()"
   ]
  },
  {
   "cell_type": "code",
   "execution_count": 5,
   "metadata": {},
   "outputs": [
    {
     "data": {
      "image/png": "[encoded data removed]",
      "text/plain": [
       "<Figure size 432x288 with 1 Axes>"
      ]
     },
     "metadata": {
      "needs_background": "light"
     },
     "output_type": "display_data"
    },
    {
     "name": "stdout",
     "output_type": "stream",
     "text": [
      "Nice job! Your vehicle is behaving as expected!\n"
     ]
    }
   ],
   "source": [
    "# TESTING CODE 1\n",
    "\n",
    "# instantiate vehicle\n",
    "v = Vehicle()\n",
    "\n",
    "# drive in spirals of decreasing size\n",
    "v.drive_forward(8)\n",
    "v.turn(\"L\")\n",
    "\n",
    "v.drive_forward(5)\n",
    "v.turn(\"L\")\n",
    "\n",
    "v.drive_forward(5)\n",
    "v.turn(\"L\")\n",
    "\n",
    "v.drive_forward(4)\n",
    "v.turn(\"L\")\n",
    "\n",
    "v.drive_forward(4)\n",
    "v.turn(\"L\")\n",
    "\n",
    "v.drive_forward(3)\n",
    "v.turn(\"L\")\n",
    "\n",
    "v.drive_forward(3)\n",
    "v.turn(\"L\")\n",
    "\n",
    "v.drive_forward(2)\n",
    "v.turn(\"L\")\n",
    "\n",
    "v.drive_forward(2)\n",
    "v.turn(\"L\")\n",
    "\n",
    "v.drive_forward(1)\n",
    "v.turn(\"L\")\n",
    "\n",
    "v.drive_forward(1)\n",
    "\n",
    "# show the trajectory. It should look like a spiral\n",
    "v.show_trajectory()\n",
    "\n",
    "# TESTING\n",
    "assert(v.x == 5)\n",
    "assert(v.y == 3)\n",
    "first_5 = [\n",
    "    (0, 0),\n",
    "    (8, 0),\n",
    "    (8, 5),\n",
    "    (3, 5),\n",
    "    (3, 1)\n",
    "]\n",
    "assert(first_5 == v.history[:5])\n",
    "print(\"Nice job! Your vehicle is behaving as expected!\")"
   ]
  },
  {
   "cell_type": "code",
   "execution_count": 6,
   "metadata": {},
   "outputs": [
    {
     "data": {
      "image/png": "[encoded data removed]",
      "text/plain": [
       "<Figure size 432x288 with 1 Axes>"
      ]
     },
     "metadata": {
      "needs_background": "light"
     },
     "output_type": "display_data"
    },
    {
     "name": "stdout",
     "output_type": "stream",
     "text": [
      "Nice job! Your vehicle passed the zig zag test.\n"
     ]
    }
   ],
   "source": [
    "# TESTING CODE Part 2\n",
    "def test_zig_zag():\n",
    "    v = Vehicle()\n",
    "    for i in range(10):\n",
    "        for _ in range(4):\n",
    "            v.drive_forward(2)\n",
    "            v.turn(\"R\")\n",
    "            v.drive_forward(1)\n",
    "            v.turn(\"L\")\n",
    "        v.drive_forward(10)\n",
    "        v.turn(\"R\")\n",
    "    first_six = [\n",
    "        (0,0),\n",
    "        (2,0),\n",
    "        (2,-1),\n",
    "        (4,-1),\n",
    "        (4,-2),\n",
    "        (6,-2)\n",
    "    ]\n",
    "    v.show_trajectory()\n",
    "    assert(v.x == 14)\n",
    "    assert(v.y == -22)\n",
    "    assert(v.history[:6] == first_six)\n",
    "    print(\"Nice job! Your vehicle passed the zig zag test.\")\n",
    "test_zig_zag()"
   ]
  },
  {
   "cell_type": "markdown",
   "metadata": {},
   "source": [
    "### Trigonometric Ratios\n",
    "\n",
    "<img src='./figs/trig.png'>"
   ]
  },
  {
   "cell_type": "code",
   "execution_count": 7,
   "metadata": {},
   "outputs": [],
   "source": [
    "import numpy as np\n",
    "from math import pi\n",
    "from matplotlib import pyplot as plt\n",
    "\n",
    "# these 2 lines just hide some warning messages.\n",
    "import warnings\n",
    "warnings.filterwarnings('ignore')\n",
    "\n",
    "class Vehicle:\n",
    "    def __init__(self):\n",
    "        self.x       = 0.0 # meters\n",
    "        self.y       = 0.0\n",
    "        self.heading = 0.0 # radians\n",
    "        self.history = []\n",
    "        \n",
    "    def drive_forward(self, displacement):\n",
    "        \"\"\"\n",
    "        Updates x and y coordinates of vehicle based on \n",
    "        heading and appends previous (x,y) position to\n",
    "        history.\n",
    "        \"\"\"\n",
    "        delta_x = displacement * np.cos(self.heading)\n",
    "        delta_y = displacement * np.sin(self.heading)\n",
    "        \n",
    "        new_x = self.x + delta_x\n",
    "        new_y = self.y + delta_y\n",
    "        \n",
    "        self.history.append((self.x, self.y))\n",
    "\n",
    "        self.x = new_x\n",
    "        self.y = new_y\n",
    "    \n",
    "    def set_heading(self, heading_in_degrees):\n",
    "        \"\"\"\n",
    "        Set's the current heading (in radians) to a new value\n",
    "        based on heading_in_degrees. Vehicle heading is always\n",
    "        between -pi and pi.\n",
    "        \"\"\"\n",
    "        assert(-180 <= heading_in_degrees <= 180)\n",
    "        rads = (heading_in_degrees * pi / 180) % (2*pi)\n",
    "        self.heading = rads\n",
    "        \n",
    "    def turn(self, degrees):\n",
    "        rads = (degrees * pi / 180)\n",
    "        new_head = self.heading + rads % (2*pi)\n",
    "        self.heading = new_head\n",
    "    \n",
    "    def show_trajectory(self):\n",
    "        \"\"\"\n",
    "        Creates a scatter plot of vehicle's trajectory.\n",
    "        \"\"\"\n",
    "        # get the x and y coordinates from vehicle's history\n",
    "        X = [p[0] for p in self.history]\n",
    "        Y = [p[1] for p in self.history]\n",
    "        \n",
    "        # don't forget to add the CURRENT x and y\n",
    "        X.append(self.x)\n",
    "        Y.append(self.y)\n",
    "        \n",
    "        # create scatter AND plot (to connect the dots)\n",
    "        plt.scatter(X,Y)\n",
    "        plt.plot(X,Y)\n",
    "        \n",
    "        plt.title(\"Vehicle (x, y) Trajectory\")\n",
    "        plt.xlabel(\"X Position\")\n",
    "        plt.ylabel(\"Y Position\")\n",
    "        plt.axes().set_aspect('equal', 'datalim')\n",
    "        plt.show()"
   ]
  },
  {
   "cell_type": "code",
   "execution_count": 10,
   "metadata": {},
   "outputs": [
    {
     "name": "stdout",
     "output_type": "stream",
     "text": [
      "Your set_heading function looks good!\n",
      "Congratulations! Your vehicle's drive_forward method works\n"
     ]
    }
   ],
   "source": [
    "# Use this testing code to check your code for correctness.\n",
    "from src.testing import test_drive_forward, test_set_heading\n",
    "\n",
    "test_set_heading(Vehicle)\n",
    "test_drive_forward(Vehicle)"
   ]
  },
  {
   "cell_type": "code",
   "execution_count": 9,
   "metadata": {},
   "outputs": [
    {
     "data": {
      "image/png": "[encoded data removed]",
      "text/plain": [
       "<Figure size 432x288 with 1 Axes>"
      ]
     },
     "metadata": {
      "needs_background": "light"
     },
     "output_type": "display_data"
    }
   ],
   "source": [
    "# instantiate vehicle\n",
    "v = Vehicle()\n",
    "\n",
    "# drive forward 10 meters\n",
    "v.drive_forward(10)\n",
    "\n",
    "# turn left in 10 increments of 9 degrees each.\n",
    "for _ in range(10):\n",
    "    v.turn(9.0)\n",
    "    v.drive_forward(1)\n",
    "\n",
    "v.drive_forward(10)\n",
    "\n",
    "v.show_trajectory()"
   ]
  },
  {
   "cell_type": "code",
   "execution_count": null,
   "metadata": {},
   "outputs": [],
   "source": []
  }
 ],
 "metadata": {
  "kernelspec": {
   "display_name": "Python 3",
   "language": "python",
   "name": "python3"
  },
  "language_info": {
   "codemirror_mode": {
    "name": "ipython",
    "version": 3
   },
   "file_extension": ".py",
   "mimetype": "text/x-python",
   "name": "python",
   "nbconvert_exporter": "python",
   "pygments_lexer": "ipython3",
   "version": "3.6.5"
  }
 },
 "nbformat": 4,
 "nbformat_minor": 2
}
