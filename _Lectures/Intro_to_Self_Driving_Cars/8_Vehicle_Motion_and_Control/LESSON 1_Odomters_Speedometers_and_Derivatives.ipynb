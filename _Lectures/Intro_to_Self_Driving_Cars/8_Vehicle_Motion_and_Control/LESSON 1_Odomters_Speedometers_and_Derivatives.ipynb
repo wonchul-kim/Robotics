{
 "cells": [
  {
   "cell_type": "markdown",
   "metadata": {},
   "source": [
    "### OUTLINE\n",
    "\n",
    "**1. Odometers, Speedometers, and Derivatives**\n",
    "\n",
    "Understanding motion means understanding quantities like position, velocity, and acceleration and how they relate to each other. And it turns out that calculus gives us two incredible tools for understanding these relationships: <U>derivatives</U> and <U>integrals</U>.\n",
    "\n",
    "**2. Accelerometers, Rate Gyros, and Integrals**\n",
    "\n",
    "An inertial measurement unit is able to measure acceleration in three directions as well as rotation rates around all three axes (pitch, roll, and yaw).\n",
    "\n",
    "**3. Two Dimensional Robot Motion and Trigonometry**\n",
    "\n",
    "<img src='./figs/outline1.png' width=200>\n",
    "\n",
    "Get vehicle's heading and displacement to calculate horizontal and vertical changes in its motion.\n",
    "\n",
    "**4. LAB - Reconstructing Trajectories**\n",
    "\n",
    "Use data to reconstruct plots of the vehicle's trajectorey."
   ]
  },
  {
   "cell_type": "markdown",
   "metadata": {},
   "source": [
    "### Navigation Sensors\n",
    "\n",
    "* Odometers<br> \n",
    "measures how far a vehicle has traveled by counting wheel rotations\n",
    "<br>\n",
    "\n",
    "* Inertial Measurement Unit<br>\n",
    "measures a vehicle's heading, rotation rate, and linear acceleration"
   ]
  },
  {
   "cell_type": "markdown",
   "metadata": {},
   "source": [
    "### Defining the Derivative\n",
    "\n",
    "> Is it possible to calculate instantaneous speed using position and time measurements? \n",
    "\n",
    "* Velocity is the instantaneous rate of change of position\n",
    "* Velocity is the slope of the tangent line of position\n",
    "* Velocity is the derivative of position\n",
    "\n",
    ">> position difference within very small time term, which is derivative of  position gives us instantaneous speed"
   ]
  },
  {
   "cell_type": "markdown",
   "metadata": {},
   "source": [
    "### Get values from data, not function equation\n",
    "\n",
    "For a car, the speedodometer tells us the instanteneous speed and it is calculated from data, not from some equations.\n",
    "\n"
   ]
  },
  {
   "cell_type": "code",
   "execution_count": 12,
   "metadata": {},
   "outputs": [],
   "source": [
    "# run this cell for required imports\n",
    "\n",
    "from src.helpers import process_data\n",
    "from matplotlib import pyplot as plt"
   ]
  },
  {
   "cell_type": "code",
   "execution_count": 13,
   "metadata": {},
   "outputs": [],
   "source": [
    "def get_derivative_from_data(position_data, time_data):\n",
    "    # TODO - try your best to implement this code yourself!\n",
    "    #        if you get really stuck feel free to go back\n",
    "    #        to the previous notebook for a hint.\n",
    "    \n",
    "    prev_position = position_data[0]\n",
    "    prev_time = time_data[0]\n",
    "    \n",
    "    vel = []\n",
    "    for i in range(1, len(position_data)):\n",
    "        delta_t = time_data[i] - prev_time\n",
    "        delta_p = position_data[i] - prev_position\n",
    "        \n",
    "        vel.append(delta_p/delta_t)\n",
    "        \n",
    "        prev_time = time_data[i]\n",
    "        prev_position = position_data[i]\n",
    "        \n",
    "    return vel"
   ]
  },
  {
   "cell_type": "code",
   "execution_count": 14,
   "metadata": {},
   "outputs": [],
   "source": [
    "# load the parallel park data\n",
    "PARALLEL_PARK_DATA = process_data(\"./data/parallel_park.pickle\")\n",
    "\n",
    "# get the relevant columns\n",
    "timestamps    = [row[0] for row in PARALLEL_PARK_DATA]\n",
    "displacements = [row[1] for row in PARALLEL_PARK_DATA]"
   ]
  },
  {
   "cell_type": "code",
   "execution_count": 15,
   "metadata": {},
   "outputs": [
    {
     "data": {
      "image/png": "[encoded data removed]",
      "text/plain": [
       "<Figure size 432x288 with 1 Axes>"
      ]
     },
     "metadata": {
      "needs_background": "light"
     },
     "output_type": "display_data"
    }
   ],
   "source": [
    "speeds = get_derivative_from_data(displacements, timestamps)\n",
    "accelerations = get_derivative_from_data(speeds, timestamps[1:])\n",
    "\n",
    "plt.title(\"x(t), v(t), a(t)\")\n",
    "plt.xlabel(\"Time (seconds)\")\n",
    "plt.ylabel(\"x (blue), v (orange), a (green)\")\n",
    "plt.scatter(timestamps, displacements)\n",
    "plt.scatter(timestamps[1:], speeds)\n",
    "plt.scatter(timestamps[2:], accelerations)\n",
    "plt.show()"
   ]
  },
  {
   "cell_type": "code",
   "execution_count": null,
   "metadata": {},
   "outputs": [],
   "source": []
  },
  {
   "cell_type": "code",
   "execution_count": null,
   "metadata": {},
   "outputs": [],
   "source": []
  }
 ],
 "metadata": {
  "kernelspec": {
   "display_name": "Python 3",
   "language": "python",
   "name": "python3"
  },
  "language_info": {
   "codemirror_mode": {
    "name": "ipython",
    "version": 3
   },
   "file_extension": ".py",
   "mimetype": "text/x-python",
   "name": "python",
   "nbconvert_exporter": "python",
   "pygments_lexer": "ipython3",
   "version": "3.6.5"
  }
 },
 "nbformat": 4,
 "nbformat_minor": 2
}
