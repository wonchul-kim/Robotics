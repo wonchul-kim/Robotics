{
 "cells": [
  {
   "cell_type": "markdown",
   "metadata": {},
   "source": [
    "### C++ Vectors\n",
    "\n",
    "When you were writing Python programs to store and manipulate matrices, you used Python lists. C++ vectors are just like Python lists. But, C++ also has something called a list which does not work the same way as Python lists.\n",
    "\n",
    "C++ lists and C++ vectors are both in a family of structures called (sequence containers)[https://en.cppreference.com/w/cpp/container]. These containers allow you to store values in series and then access those values. C++ has a handful of sequence containers including lists, vectors, and arrays.\n",
    "\n",
    "C++ vectors are the closest to Python lists. You can add elements to a C++ vector just like you can in a Python list. You can remove elements as well and also easily access any element in the vector.\n",
    "\n",
    "**1. Declaring C++ Vectors**\n",
    "\n",
    "```\n",
    "#include <vector>\n",
    "\n",
    "std::vector<char> charactervectorvariable;\n",
    "std::vector<int> integervectorvariable;\n",
    "std::vector<float> floatvectorvariable;\n",
    "std::vector<double> doublevectorvariable:\n",
    "```\n"
   ]
  },
  {
   "cell_type": "markdown",
   "metadata": {},
   "source": [
    "### Namespaces\n",
    "\n",
    "Std is something called a namespace. Without getting too much into the details, namespaces let you organize code into logical groups. In this case, std is the namespace for the Standard Library.\n",
    "\n",
    "``\n",
    "using namespace std;\n",
    "``\n",
    "\n",
    "By typing something like the above, we can avoid to type std:: over and over again in front of vector."
   ]
  },
  {
   "cell_type": "markdown",
   "metadata": {},
   "source": [
    "### Python Lists vs. C++ Vectors\n",
    "\n",
    "<img src='./figs/vector1.png'>\n"
   ]
  },
  {
   "cell_type": "markdown",
   "metadata": {},
   "source": [
    "### Initializing Vector Values\n",
    "\n",
    "1. Declare and initailize:\n",
    "\n",
    "``\n",
    "vector<float> myvector(5);\n",
    "myvector[0] = 5.0;\n",
    "myvector[1] = 3.0;\n",
    "myvector[2] = 2.7;\n",
    "myvector[3] = 8.2;\n",
    "myvector[4] = 7.9;\n",
    "``\n",
    "\n",
    "2. Declare and initailize simultaneously:\n",
    "\n",
    "2-1)\n",
    "``\n",
    "std::vector<int> myvector (10, 6);\n",
    "``\n",
    "\n",
    "The above code declares a vector with ten elements, and each element will have the value 6.\n",
    "\n",
    "2-2)\n",
    "``\n",
    "std::vector<float> myvector = {5.0, 3.0, 2.7, 8.2, 7.9}\n",
    "``\n",
    "\n",
    "\n",
    " "
   ]
  },
  {
   "cell_type": "markdown",
   "metadata": {},
   "source": [
    "### Vector Methods\n",
    "\n",
    "* assign <br>\n",
    "\n",
    "quickly populate a vector with fixed values.\n",
    "\n",
    "``\n",
    "vector<int> intvariable;\n",
    "intvariable.assign(10,16);\n",
    "``\n",
    "\n",
    "is going to populate the vector with ten integers all having the value of 16. It also lets you override your current vector with a new vector.\n",
    "\n",
    "* push_back <br>\n",
    "\n",
    "adds an element to the end of the vector.\n",
    "\n",
    "``\n",
    "vector<int> intvariable;\n",
    "intvariable.push_back(25);\n",
    "``\n",
    "\n",
    "* size\n",
    "\n",
    "returns the size of the vector.\n",
    "\n",
    "``\n",
    "intvariable.size();\n",
    "``\n",
    "\n",
    "<img src='./figs/vector2.png'>"
   ]
  },
  {
   "cell_type": "markdown",
   "metadata": {},
   "source": [
    "### Two Dimensional Vectors\n",
    "\n",
    "<img src='./figs/vs2.png'>\n",
    "\n",
    "1. Declaration\n",
    "\n",
    "``\n",
    "vector < vector <int> > twodvector;\n",
    "``\n",
    "\n",
    "2. Initialization<br>\n",
    "\n",
    "2-1) The single row vector is appended to the twodvector five times:<br>\n",
    "``\n",
    "vector<int> singlerow (3,2);\n",
    "``<br>\n",
    "``\n",
    "    for (int i = 0; i < 5; i++) {\n",
    "        twodvector.push_back(singlerow);\n",
    "    }\n",
    "``<br>\n",
    "2-2) <br>\n",
    "``\n",
    "vector < vector <int> > twodvector (5, vector <int> (3, 2));\n",
    "``\n",
    "\n",
    "which is same to <br>\n",
    "``\n",
    "vector < vector <int> > twodvector (5, {2, 2, 2});\n",
    "``\n",
    "\n",
    "<U>Note</U> that only Python represents vectors or matrices with square brackets []. Newer versions of C++ can use squiggly brackets to represent vectors {}, but older implementations of C++ do not have an equivalent representation."
   ]
  }
 ],
 "metadata": {
  "kernelspec": {
   "display_name": "Python 3",
   "language": "python",
   "name": "python3"
  },
  "language_info": {
   "codemirror_mode": {
    "name": "ipython",
    "version": 3
   },
   "file_extension": ".py",
   "mimetype": "text/x-python",
   "name": "python",
   "nbconvert_exporter": "python",
   "pygments_lexer": "ipython3",
   "version": "3.6.5"
  }
 },
 "nbformat": 4,
 "nbformat_minor": 2
}
