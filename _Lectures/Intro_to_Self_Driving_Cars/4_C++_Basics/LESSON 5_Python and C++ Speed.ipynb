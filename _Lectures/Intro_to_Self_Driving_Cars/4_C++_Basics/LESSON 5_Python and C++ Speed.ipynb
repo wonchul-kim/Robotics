{
 "cells": [
  {
   "cell_type": "markdown",
   "metadata": {},
   "source": [
    "### Moving in C++ and Python\n",
    "\n",
    "we'll be comparing the execution speed of C++ and Python implementations of the move function that Kalman filters use to update their estimate of a car's location as it moves.\n",
    "\n",
    "The move function does two things:\n",
    "\n",
    "* It shifts a set of prior beliefs (about the car's location) in whichever direction the car moves.\n",
    "* It adds some uncertainty to the beliefs because our model for car movement is not perfect.\n",
    "\n",
    "A car is constantly moving, so this move function needs to be fast to keep up with the state of the car.\n",
    "\n",
    "\n",
    "### Execution vs. Development Time\n",
    "\n",
    "You'll be comparing the execution time of the same move function implemented in Python and in C++. You're also encouraged to explore the code and think about how long it might take for you to program this function in either language; there is often a trade off between speed of execution and speed of development.\n"
   ]
  },
  {
   "cell_type": "markdown",
   "metadata": {},
   "source": [
    "#### Python Speed"
   ]
  },
  {
   "cell_type": "code",
   "execution_count": 4,
   "metadata": {},
   "outputs": [
    {
     "name": "stdout",
     "output_type": "stream",
     "text": [
      "Time to move 1000 iterations in milliseconds: 37.64033317565918\n"
     ]
    }
   ],
   "source": [
    "import time\n",
    "from helpers import blur\n",
    "\n",
    "# The 2D move function\n",
    "def move(dy, dx, beliefs, blurring):\n",
    "    height = len(beliefs)\n",
    "    width = len(beliefs[0])\n",
    "    new_G = [[0.0 for i in range(width)] for j in range(height)]\n",
    "    for i, row in enumerate(beliefs):\n",
    "        for j, cell in enumerate(row):\n",
    "            new_i = (i + dy ) % width\n",
    "            new_j = (j + dx ) % height\n",
    "            new_G[int(new_i)][int(new_j)] = cell\n",
    "    return blur(new_G, blurring)\n",
    "\n",
    "# Initialize a world grid of beliefs\n",
    "grid = [ [0.05, 0.2, 0.2, 0.05, 0.05],\n",
    "         [0.05, 0.1, 0.2, 0.05, 0.05] ]\n",
    "\n",
    "# Record the time it takes to execute the move function\n",
    "# Start the timer and record the start time\n",
    "start_time = time.time()\n",
    "\n",
    "# Time the move function for 1000 iterations\n",
    "# move 2 to the right each iteration\n",
    "\n",
    "### TODO: Change the number of iterations and see how this performs - try 10000x !\n",
    "### TODO: Run multiple times and notice the slight change in recorded time\n",
    "iterations = 1000\n",
    "\n",
    "for i in range(0, iterations):\n",
    "    move(0, 2, grid, 1.0)\n",
    "\n",
    "# Record the end time and print the result!\n",
    "stop_time = time.time()\n",
    "\n",
    "millisec_time = 1000*(stop_time - start_time)\n",
    "print(\"Time to move \" +str(iterations) + \" iterations in milliseconds: \" + str(millisec_time))\n"
   ]
  },
  {
   "cell_type": "markdown",
   "metadata": {},
   "source": [
    "#### C++ Speed\n",
    "\n",
    "> codes are in the folder >> results: 13.877"
   ]
  },
  {
   "cell_type": "markdown",
   "metadata": {},
   "source": []
  }
 ],
 "metadata": {
  "kernelspec": {
   "display_name": "Python 3",
   "language": "python",
   "name": "python3"
  },
  "language_info": {
   "codemirror_mode": {
    "name": "ipython",
    "version": 3
   },
   "file_extension": ".py",
   "mimetype": "text/x-python",
   "name": "python",
   "nbconvert_exporter": "python",
   "pygments_lexer": "ipython3",
   "version": "3.6.5"
  }
 },
 "nbformat": 4,
 "nbformat_minor": 2
}
