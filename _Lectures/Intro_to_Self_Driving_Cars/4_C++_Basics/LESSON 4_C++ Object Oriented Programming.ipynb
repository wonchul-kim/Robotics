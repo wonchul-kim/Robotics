{
 "cells": [
  {
   "cell_type": "markdown",
   "metadata": {},
   "source": [
    "###  src_1. C++ vs. Python "
   ]
  },
  {
   "cell_type": "code",
   "execution_count": 1,
   "metadata": {},
   "outputs": [],
   "source": [
    "class Gaussian():\n",
    "\n",
    "    def __init__(self, mean, variance):\n",
    "        self.mu = mean\n",
    "        self.sigma2 = variance\n",
    "\n",
    "    def evaluate(self, x):\n",
    "        coefficient = 1.0 / sqrt(2.0 * pi * self.sigma2)\n",
    "        exponential = exp(-0.5 * (x-self.mu) ** 2 / self.sigma2)\n",
    "        return coefficient * exponential\n",
    "\n",
    "    def multiply(self, other):\n",
    "        # calculate new mean\n",
    "        denominator = self.sigma2 + other.sigma2\n",
    "        numerator = self.mu * other.sigma2 + other.mu * self.sigma2\n",
    "        new_mu = numerator / denominator\n",
    "\n",
    "        # calculate new variance\n",
    "        new_var = 1.0 / ( (1.0 / self.sigma2) + (1.0 / other.sigma2) )\n",
    "\n",
    "        # generate new gaussian\n",
    "        return Gaussian(new_mu, new_var)\n",
    "\n",
    "    def add(self, other):\n",
    "        new_mu = self.mu + other.mu\n",
    "        new_sigma2 = self.sigma2 + other.sigma2\n",
    "\n",
    "        return Gaussian(new_mu, new_sigma2)\n"
   ]
  },
  {
   "cell_type": "markdown",
   "metadata": {},
   "source": [
    "### Constructor Functions\n",
    "\n",
    "determine how a new object will be initiated. When you declare a new object, should the object have default values? Or will you provide values every time you instantiate an object?\n",
    "\n",
    "Python had an equivalent syntax with the `__init__`.<br>\n",
    "```\n",
    "def __init__(self, variable1, variable2, ..., variablen):\n",
    "```\n",
    "\n",
    "The first constructor function is for when you instantiate an object without specifying the average and variance.:\n",
    "```\n",
    "Gaussian::Gaussian() {\n",
    "    mu = 0;\n",
    "    sigma2 = 1;    \n",
    "}\n",
    "```\n",
    "The other constructor function specifies what to do when you do specify the average and variance:\n",
    "```\n",
    "Gaussian::Gaussian (float average, float sigma) {\n",
    "    mu = average;\n",
    "    sigma2 = sigma;\n",
    "}```"
   ]
  },
  {
   "cell_type": "markdown",
   "metadata": {},
   "source": [
    "### Class Methods\n",
    "\n",
    "define all of the functions that your class needs to have.\n",
    "\n",
    "The rest of the code contains the definitions for all of the functions, also called methods, that your class has.\n"
   ]
  },
  {
   "cell_type": "markdown",
   "metadata": {},
   "source": [
    "### src_2. private vs. public vs. protected\n",
    "\n",
    "These keywords **private** and **public** determine which part of your program will have access to the variables and functions. If a variable or function is private, then only the class code itself has access to these variables and functions.\n",
    "\n",
    "On the other hand, anything marked public can be accessed outside the class; for example, when you instantiate an object, your program will be able to use the set and get functions as well as the evaluate, multiply and add functions; however, your program will not be able to access the mu and sigma2 variables directly.\n",
    "\n",
    "There is another keyword called **protected**, which wasn't used in the example. Basically, protected classes and variables can be accessed by any subclasses. For example, if you wrote a Vehicle class, you might write a Car class, a Van class, and a Truck class that would all inherit from the more general Vehicle class. Any protected variables in the Vehicle class could be accessed in the child classes.\n",
    "\n",
    "**Why keep things private?**<br>\n",
    "By default, C++ makes all class variables and functions private. That means you can actually declare private variables and functions at the top of your class declaration without even labeling them private\n",
    "\n",
    "C++ thus encourages you to make everything private unless you have a good reason not to do so. For example, by making the mu and sigma2 variables private, you have separated how mu and sigma2 are implemented versus how mu and sigma2 are accessed.\n",
    "\n",
    "What happens if the way your class calculates mu and sigma2 changes? If these variables had been public, then any code that uses your class might break. When mu and sigma2 were public, a program could directly change the value of mu and sigma with code like:\n",
    "\n",
    "```   \n",
    "mygaussian.mu = 25;\n",
    "```\n",
    "\n",
    "But when mu and sigma2 were private, a program had to use code like this:\n",
    "```\n",
    "mygaussian.setMu(25)\n",
    "```\n",
    "\n",
    "\n",
    "If you needed to change something about the implementation of the mu variable, you would be much less likely to break existing code in the private case. A program using the Gaussian class does not need to know how mu was implemented as long as the program can get the mu value and change the value in mu."
   ]
  },
  {
   "cell_type": "markdown",
   "metadata": {},
   "source": [
    "### src_3. Header Files\n",
    "\n",
    "In the src_1, you saw how to separate a class into one file (gaussian.cpp) that was separate from main.cpp. But both the main program file and the gaussian class file needed the exact same class declaration at the top of the code.\n",
    "\n",
    "What goes in a header file?\n",
    "\n",
    "You were introduced to header files in the previous lesson. Header files allowed you to put function declarations in a separate file. Ultimately, using and including header files makes it easier to re-use functions in different parts of your program. Furthermore, if the class declaration changes, you only have to change the declaration in one place.\n",
    "\n",
    "For classes, header files serve the exact same purpose. When you use the Gaussian class in main.cpp, you can simply include the header file at the top include \"gaussian.h\". That gives main.cpp access to the Gaussian class.\n",
    "\n",
    "Likewise, for gaussian.cpp, you can include the header file as well rather than writing out the entire declaration.\n",
    "Using Include in Header Files\n",
    "\n",
    "Generally, it's recommended to put the minimum number of #include statements needed into a header file. However, because header files essentially get copied into .cpp files, you might inadvertently include the same library or file multiple times. The consequence is that variables, functions or classes might be declared multiple times as well, and the code will not compile. In the next part of the lesson, you will learn what happens when elements get declared multiple times, and you will also learn how to avoid the multiple declarations.\n"
   ]
  },
  {
   "cell_type": "markdown",
   "metadata": {},
   "source": [
    "### ifndef\n",
    "\n",
    "allows you to implement a technique called inclusion guards.\n",
    "\n",
    "The **ifndef** statement stands for \"if not defined\". When you wrap your header files with ``#ifndef`` statements, the compiler will only include a header file if the file has not yet been defined. In the current main.cpp example, the \"engine.h\" file would be included first. Then the compiler includes \"car.h\". But \"car.h\" will try to include \"engine.h\" again; however, the inclusion guard in the \"engine.h\" file will ensure that \"engine.h\" does not get included again."
   ]
  },
  {
   "cell_type": "markdown",
   "metadata": {},
   "source": [
    "### Namespaces in Header Files\n",
    "\n",
    "As an aside, you'll notice that the header files did not use the standard namespace. It's generally recommended to avoid using namespaces in a header file. This can help avoid naming conflicts later as functions and classes are reused in different parts of a code base.\n"
   ]
  },
  {
   "cell_type": "markdown",
   "metadata": {},
   "source": [
    "### src_4. Matrix functions"
   ]
  },
  {
   "cell_type": "code",
   "execution_count": null,
   "metadata": {},
   "outputs": [],
   "source": []
  }
 ],
 "metadata": {
  "kernelspec": {
   "display_name": "Python 3",
   "language": "python",
   "name": "python3"
  },
  "language_info": {
   "codemirror_mode": {
    "name": "ipython",
    "version": 3
   },
   "file_extension": ".py",
   "mimetype": "text/x-python",
   "name": "python",
   "nbconvert_exporter": "python",
   "pygments_lexer": "ipython3",
   "version": "3.6.5"
  }
 },
 "nbformat": 4,
 "nbformat_minor": 2
}
