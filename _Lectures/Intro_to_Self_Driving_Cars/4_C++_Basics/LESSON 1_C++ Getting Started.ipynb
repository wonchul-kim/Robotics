{
 "cells": [
  {
   "cell_type": "markdown",
   "metadata": {},
   "source": [
    "### Python and C++ Comparison\n",
    "\n",
    "<img src='./figs/compr.png'>\n",
    "\n",
    "Curly braces are used to group a set of statements together. Python does this by grouping statements based on their indentation.\n",
    "In fact, the C++ written above does not even need to be indented. The indentation makes the code more readable. You will find cases in C++ where curly braces are optional. But function definitions do need the curly braces to group statements together."
   ]
  },
  {
   "cell_type": "markdown",
   "metadata": {},
   "source": [
    "### Python is Dynamic, C++ is Static"
   ]
  },
  {
   "cell_type": "markdown",
   "metadata": {},
   "source": [
    "### Floating and Double Floating Point Numbers\n",
    "<img src='./figs/float.png'>\n",
    "\n",
    "In general, double floating point numbers are two times more precise and will thus require twice as much memory."
   ]
  },
  {
   "cell_type": "markdown",
   "metadata": {},
   "source": [
    "### Functions: Python vs C++\n",
    "\n",
    "<img src='./figs/vs.png'>"
   ]
  },
  {
   "cell_type": "markdown",
   "metadata": {},
   "source": [
    "### Switch\n",
    "\n",
    "A switch statement is very similar to an if clause. In fact, you can write a program that does the exact same thing with either a switch statement or a series of if-else clauses.\n",
    "\n",
    "Then why bother using a switch statement? For reasons we won't detail here, switch statements can oftentimes be faster to execute. Many programming languages have a switch statement including Java, Javascript, PHP, C++ among others; Python is an exception.\n",
    "\n",
    "Since there is no Python switch statement, we will compare a set of if-else C++ clauses with a C++ switch statement.\n",
    "\n",
    "**Switch Limitations**\n",
    "\n",
    "If-else statements are much more flexible than switch statements. In fact, the case clauses in switch statements can only make comparisons between integer values. Switch cases can also compare characters like in the example code because C++ is actually converting the characters to integers.\n",
    "\n",
    "On the other hand, if statements can make comparisons between floating point numbers as well as between integers.\n",
    "\n",
    "The general form of a switch statement looks like this:"
   ]
  },
  {
   "cell_type": "code",
   "execution_count": null,
   "metadata": {},
   "outputs": [],
   "source": []
  }
 ],
 "metadata": {
  "kernelspec": {
   "display_name": "Python 3",
   "language": "python",
   "name": "python3"
  },
  "language_info": {
   "codemirror_mode": {
    "name": "ipython",
    "version": 3
   },
   "file_extension": ".py",
   "mimetype": "text/x-python",
   "name": "python",
   "nbconvert_exporter": "python",
   "pygments_lexer": "ipython3",
   "version": "3.6.5"
  }
 },
 "nbformat": 4,
 "nbformat_minor": 2
}
