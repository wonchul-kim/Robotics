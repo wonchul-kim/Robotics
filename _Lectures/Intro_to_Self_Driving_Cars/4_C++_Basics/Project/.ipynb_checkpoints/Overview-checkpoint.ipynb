{
 "cells": [
  {
   "cell_type": "markdown",
   "metadata": {},
   "source": [
    "### Project Overview\n",
    "\n",
    "The goal of this project is to take the python code you wrote when you implemented the two dimensional histogram filter and translate it into C++. \n",
    "\n",
    "After you review the Python code you will download some starter C++ code. Your job is to complete the functions marked with TODO comments until the histogram filter works as expected!\n",
    "\n",
    "You can evaluate the correctness of your code by compiling tests.cpp and then running the output. Do this by running the following from the command line."
   ]
  }
 ],
 "metadata": {
  "kernelspec": {
   "display_name": "Python 3",
   "language": "python",
   "name": "python3"
  },
  "language_info": {
   "codemirror_mode": {
    "name": "ipython",
    "version": 3
   },
   "file_extension": ".py",
   "mimetype": "text/x-python",
   "name": "python",
   "nbconvert_exporter": "python",
   "pygments_lexer": "ipython3",
   "version": "3.6.5"
  }
 },
 "nbformat": 4,
 "nbformat_minor": 2
}
