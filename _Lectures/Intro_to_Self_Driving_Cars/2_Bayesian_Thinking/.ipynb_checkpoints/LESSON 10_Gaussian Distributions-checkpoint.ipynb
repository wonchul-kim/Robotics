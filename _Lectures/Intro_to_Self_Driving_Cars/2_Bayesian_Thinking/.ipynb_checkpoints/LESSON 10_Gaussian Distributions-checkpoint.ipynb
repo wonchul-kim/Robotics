{
 "cells": [
  {
   "cell_type": "markdown",
   "metadata": {},
   "source": [
    "# Gaussian Distributions"
   ]
  },
  {
   "cell_type": "markdown",
   "metadata": {},
   "source": [
    "Gaussian distributinos are continuous distrituions. For example, when modeling probabilities of a spinning wheel, you used a uniform distribution. When modeling <U>uncertainty</U> in a sensor measurement, we need to use a Gaussian distribution.\n",
    "\n",
    "\n",
    "* population refers to the entire set of all data points. Like if you were measuring people's weights, then the population would be all people in the world.\n",
    "* sample refers to a part of the population. In the weights example, you might take a random sample of the population since it would be practically impossible to measure the weights of all humans.\n",
    "* mean is the average value, which in this case would be the average weight of all humans.\n",
    "* standard deviation measures the spread in the data. Does the data tend to hover around the mean, or is the data more spread out?\n",
    "* ref: [sample and populatoin](https://stattrek.com/sampling/populations-and-samples.aspx)\n"
   ]
  },
  {
   "cell_type": "markdown",
   "metadata": {},
   "source": [
    "### Gaussian Equation\n",
    "\n",
    "<img src='./figs/gaussian.png'>\n",
    "\n",
    "* $\\mu$: population mean\n",
    "* $\\sigma$: standard deviation of the distribution\n",
    "* $x$: variable\n",
    "\n",
    "> From statistics, the mean and standard deviation are constants when dealing with a population. So for a specific population, the only value that varies is x.\n"
   ]
  },
  {
   "cell_type": "markdown",
   "metadata": {},
   "source": [
    "* The mean value is the center of the bell curve.\n",
    "* As the standard deviation increases, uncertainty increases as well.\n"
   ]
  },
  {
   "cell_type": "code",
   "execution_count": null,
   "metadata": {},
   "outputs": [],
   "source": []
  }
 ],
 "metadata": {
  "kernelspec": {
   "display_name": "Python 3",
   "language": "python",
   "name": "python3"
  },
  "language_info": {
   "codemirror_mode": {
    "name": "ipython",
    "version": 3
   },
   "file_extension": ".py",
   "mimetype": "text/x-python",
   "name": "python",
   "nbconvert_exporter": "python",
   "pygments_lexer": "ipython3",
   "version": "3.6.5"
  }
 },
 "nbformat": 4,
 "nbformat_minor": 2
}
