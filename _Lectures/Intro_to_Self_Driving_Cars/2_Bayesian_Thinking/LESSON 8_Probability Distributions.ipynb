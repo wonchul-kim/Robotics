{
 "cells": [
  {
   "cell_type": "markdown",
   "metadata": {},
   "source": [
    "## Probability Distributions"
   ]
  },
  {
   "cell_type": "markdown",
   "metadata": {},
   "source": [
    "An autonomous car uses probability distributions to represent its environments"
   ]
  },
  {
   "cell_type": "markdown",
   "metadata": {},
   "source": [
    "<img src='./figs/distr.png'>\n",
    "<img src='./figs/quiz_distr.png'>\n",
    "\n",
    "<br>\n",
    "\n",
    "* In the first case of the above quiz, for the discrete probability distribution, this statement is true; in the continuous case, the y-axis represents something called a probability density function\n",
    "\n",
    "\n",
    "\n",
    "\n"
   ]
  },
  {
   "cell_type": "markdown",
   "metadata": {},
   "source": [
    "* For the fifth case, continuous variables can take on any any real number such as an integer or a decimal. Even a variable like the angle around a circle is continuous. \n",
    "\n",
    "<img src='./figs/wheel.png'><br>\n",
    "\n",
    "The angle can take on any decimal value like 60.7423 degrees. Even though the range of legitimate values might be restricted from 0 to 360 degrees, the angle can take on any decimal between that range. Move on to the next part of the lesson to learn more.\n",
    "\n",
    "Q1) What is the probability that the object of the wheel has angle 180 degree? <br><br>\n",
    "A) 0\n",
    "\n",
    "> each angle such as 179.99, 179.98, and so on has probabilty zero. Because getting that exact angle right with exact the right decibels is not possible.\n",
    "\n",
    "<br><br>\n",
    "Q2) Does the above means that the object stops nowhere?<br><br>\n",
    "A) No\n",
    "\n",
    "> the object definitely stops at some angle, but the probability of that angle is zero in continous space.\n",
    "\n",
    "<br><br>\n",
    ">> **In continous distributions, every outcome has probability zero**"
   ]
  },
  {
   "cell_type": "markdown",
   "metadata": {},
   "source": [
    "Q3) What is the probability of the object locating between 0 and 180 degrees?<br><br>\n",
    "A) 0.5\n",
    "> Range probability"
   ]
  },
  {
   "cell_type": "markdown",
   "metadata": {},
   "source": [
    "## Continuous Probability Distributions\n",
    "\n",
    "<img src='./figs/distr.png'>"
   ]
  },
  {
   "cell_type": "markdown",
   "metadata": {},
   "source": [
    "For continuous distribution, the y-axis label on the continuous distribution is **\"probability density function\"**. For the discrete probability distribution, the y-axis represented the probability of an event occurring. In the continuous case, the probability density function does not represent probability directly; instead, the <U>area</U> underneath the density function curve represents probability.\n",
    "\n",
    "### Charateristics of a continuous distribution\n",
    "* The y values must be greater than or equal to 0.\n",
    "* The probability of a specific x value occurring is equal to 0\n",
    "* The probability of an event occurring between two values of x is equal to the area under the curve between those two x values.\n",
    "* The total area under the probability density function curve is equal to 1.\n",
    "\n",
    "* [link to list of continuous probability distributions](https://en.wikipedia.org/wiki/List_of_probability_distributions#Continuous_distributions)\n",
    "\n",
    "> ex) Uniform continuous distribution forms a rectangle.\n",
    "<img src='./figs/uniform.png'>\n",
    "* Density(y-axis value) can be larger than 1, but probability cannot\n",
    "<img src='./figs/density.png'>"
   ]
  },
  {
   "cell_type": "code",
   "execution_count": null,
   "metadata": {},
   "outputs": [],
   "source": []
  }
 ],
 "metadata": {
  "kernelspec": {
   "display_name": "Python 3",
   "language": "python",
   "name": "python3"
  },
  "language_info": {
   "codemirror_mode": {
    "name": "ipython",
    "version": 3
   },
   "file_extension": ".py",
   "mimetype": "text/x-python",
   "name": "python",
   "nbconvert_exporter": "python",
   "pygments_lexer": "ipython3",
   "version": "3.6.5"
  }
 },
 "nbformat": 4,
 "nbformat_minor": 2
}
