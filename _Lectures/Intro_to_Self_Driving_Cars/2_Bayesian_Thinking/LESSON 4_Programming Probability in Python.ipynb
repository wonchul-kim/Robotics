{
 "cells": [
  {
   "cell_type": "markdown",
   "metadata": {},
   "source": [
    "### Advanced List Comprehensions"
   ]
  },
  {
   "cell_type": "code",
   "execution_count": 1,
   "metadata": {},
   "outputs": [
    {
     "name": "stdout",
     "output_type": "stream",
     "text": [
      "name:   Andy\n",
      "age:    30\n",
      "gender: m\n"
     ]
    }
   ],
   "source": [
    "# Import the module collections and be able to access namedtuple\n",
    "# wihtout having to write collections.namedtuple each time.\n",
    "from collections import namedtuple\n",
    "# Create a tuple of class 'Person'\n",
    "Person = namedtuple(\"Person\", [\"name\", \"age\", \"gender\"])\n",
    "\n",
    "# Build a list of people by using Person\n",
    "people = [\n",
    "    Person(\"Andy\", 30, \"m\"),\n",
    "    Person(\"Ping\", 1, \"m\"), \n",
    "    Person(\"Tina\", 32, \"f\"),\n",
    "    Person(\"Abby\", 14, \"f\"),\n",
    "    Person(\"Adah\", 13, \"f\"),\n",
    "    Person(\"Sebastian\", 42, \"m\"),\n",
    "    Person(\"Carol\" , 68, \"f\"),\n",
    "]\n",
    "\n",
    "# first, let's show how this namedtuple works.\n",
    "# Get the first entry in the list (which is Andy from above)\n",
    "andy = people[0]\n",
    "\n",
    "# From here, you can access andy like it was a class with attributes\n",
    "# name, age, and gender (as seeon from the namedtuple)\n",
    "print(\"name:  \", andy.name)\n",
    "print(\"age:   \", andy.age)\n",
    "print(\"gender:\", andy.gender)"
   ]
  },
  {
   "cell_type": "code",
   "execution_count": 2,
   "metadata": {},
   "outputs": [
    {
     "name": "stdout",
     "output_type": "stream",
     "text": [
      "Male names: ['Andy', 'Ping', 'Sebastian']\n"
     ]
    }
   ],
   "source": [
    "# now let's show what we can do with a list comprehension\n",
    "male_names = [person.name for person in people if person.gender==\"m\"]\n",
    "print(\"Male names:\", male_names)"
   ]
  },
  {
   "cell_type": "code",
   "execution_count": 3,
   "metadata": {},
   "outputs": [
    {
     "name": "stdout",
     "output_type": "stream",
     "text": [
      "Teen names: ['Abby', 'Adah']\n"
     ]
    }
   ],
   "source": [
    "# Create a list of names where there age \n",
    "teen_names = [p.name for p in people if 13 <= p.age <= 18 ]\n",
    "print(\"Teen names:\", teen_names)"
   ]
  },
  {
   "cell_type": "code",
   "execution_count": null,
   "metadata": {},
   "outputs": [],
   "source": []
  }
 ],
 "metadata": {
  "kernelspec": {
   "display_name": "Python 3",
   "language": "python",
   "name": "python3"
  },
  "language_info": {
   "codemirror_mode": {
    "name": "ipython",
    "version": 3
   },
   "file_extension": ".py",
   "mimetype": "text/x-python",
   "name": "python",
   "nbconvert_exporter": "python",
   "pygments_lexer": "ipython3",
   "version": "3.6.8"
  }
 },
 "nbformat": 4,
 "nbformat_minor": 2
}
