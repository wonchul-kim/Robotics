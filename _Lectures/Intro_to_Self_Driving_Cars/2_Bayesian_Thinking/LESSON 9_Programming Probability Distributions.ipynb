{
 "cells": [
  {
   "cell_type": "markdown",
   "metadata": {},
   "source": [
    "# Programming Probability Distributions"
   ]
  },
  {
   "cell_type": "markdown",
   "metadata": {},
   "source": [
    "### isinstance() function\n",
    "The isinstance() function checks to see if a variable holds a certain type of value like an integer, float, string, etc."
   ]
  },
  {
   "cell_type": "code",
   "execution_count": 2,
   "metadata": {},
   "outputs": [
    {
     "name": "stdout",
     "output_type": "stream",
     "text": [
      "Is square root two an integer? False\n",
      "Is square root two a float? True\n"
     ]
    }
   ],
   "source": [
    "import math\n",
    "\n",
    "sqr_root_2 = math.sqrt(2)\n",
    "is_sqr_root_2_an_integer = isinstance(sqr_root_2, int)\n",
    "print(\"Is square root two an integer?\", is_sqr_root_2_an_integer)\n",
    "\n",
    "is_sqr_root_2_a_float = isinstance(sqr_root_2, float)\n",
    "print(\"Is square root two a float?\", is_sqr_root_2_a_float)"
   ]
  },
  {
   "cell_type": "markdown",
   "metadata": {},
   "source": [
    "### Self Driving Car 2D World\n",
    "\n",
    "Here are your tasks for this set of exercises:\n",
    "* write a function that initializes probabilities across the grid\n",
    "* write a function that outputs the probability that the robot is at a specific point on the grid\n",
    "* write a function to visualize the probabilities of the grid (this function is provided for you)\n",
    "* write a function to update probabilities on the grid"
   ]
  },
  {
   "cell_type": "markdown",
   "metadata": {},
   "source": [
    "# Exercise 1\n",
    "\n",
    "Write a function that initializes probabilities across the 2D grid. Remember that initially, the probabilities are equal across the entire grid. And all of the probabilities need to add up to one.\n",
    "\n",
    "So if your grid was 5 by 4, you'd have 20 spaces; the initial probability associated with each space would be 1/20.\n",
    "\n",
    "Here are the inputs and outputs of the function:\n",
    "\n",
    "**Inputs**\n",
    "* the number of rows in the grid\n",
    "* the number of columns in the grid\n",
    "\n",
    "**Outputs**\n",
    "* a nested list containing the probabilities for each grid cell"
   ]
  },
  {
   "cell_type": "code",
   "execution_count": 8,
   "metadata": {},
   "outputs": [],
   "source": [
    "def initial_grid(rows, columns):\n",
    "\n",
    "    # TODO: initialize an empty list in a variable called grid\n",
    "    grid = []\n",
    "    \n",
    "    # TODO: initialize an empty row in a variable called row\n",
    "    row = []\n",
    "\n",
    "    # TODO: calculate the initial probability\n",
    "    probability = 1/(rows*columns)\n",
    "    \n",
    "    # TODO: write a nested for loop that appends values to the grid variable\n",
    "    # HINT: You first need to fill in a row with values and then append the row to the grid.\n",
    "    #        Then you'll need to set the row variable to an empty list.\n",
    "    #        The logic of all this can be tough to think through. \n",
    "    #        If you get stuck, see the demonstrations in the previous part of the lesson\n",
    "    for i in range(rows):\n",
    "        for j in range(columns):\n",
    "            row.append(probability)\n",
    "        grid.append(row)\n",
    "        row = []\n",
    "    return grid"
   ]
  },
  {
   "cell_type": "code",
   "execution_count": 10,
   "metadata": {},
   "outputs": [
    {
     "data": {
      "text/plain": [
       "[[0.05, 0.05, 0.05, 0.05],\n",
       " [0.05, 0.05, 0.05, 0.05],\n",
       " [0.05, 0.05, 0.05, 0.05],\n",
       " [0.05, 0.05, 0.05, 0.05],\n",
       " [0.05, 0.05, 0.05, 0.05]]"
      ]
     },
     "execution_count": 10,
     "metadata": {},
     "output_type": "execute_result"
    }
   ],
   "source": [
    "initial_grid(5, 4)"
   ]
  },
  {
   "cell_type": "code",
   "execution_count": null,
   "metadata": {},
   "outputs": [],
   "source": []
  }
 ],
 "metadata": {
  "kernelspec": {
   "display_name": "Python 3",
   "language": "python",
   "name": "python3"
  },
  "language_info": {
   "codemirror_mode": {
    "name": "ipython",
    "version": 3
   },
   "file_extension": ".py",
   "mimetype": "text/x-python",
   "name": "python",
   "nbconvert_exporter": "python",
   "pygments_lexer": "ipython3",
   "version": "3.6.5"
  }
 },
 "nbformat": 4,
 "nbformat_minor": 2
}
