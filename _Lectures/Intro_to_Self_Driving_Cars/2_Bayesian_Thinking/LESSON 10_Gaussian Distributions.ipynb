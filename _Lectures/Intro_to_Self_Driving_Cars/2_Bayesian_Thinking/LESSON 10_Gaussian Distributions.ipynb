{
 "cells": [
  {
   "cell_type": "markdown",
   "metadata": {},
   "source": [
    "# Gaussian Distributions"
   ]
  },
  {
   "cell_type": "markdown",
   "metadata": {},
   "source": [
    "Gaussian distributinos are continuous distrituions. For example, when modeling probabilities of a spinning wheel, you used a uniform distribution. When modeling <U>uncertainty</U> in a sensor measurement, we need to use a Gaussian distribution.\n",
    "\n",
    "\n",
    "* population refers to the entire set of all data points. Like if you were measuring people's weights, then the population would be all people in the world.\n",
    "* sample refers to a part of the population. In the weights example, you might take a random sample of the population since it would be practically impossible to measure the weights of all humans.\n",
    "* mean is the average value, which in this case would be the average weight of all humans.\n",
    "* standard deviation measures the spread in the data. Does the data tend to hover around the mean, or is the data more spread out?\n",
    "* ref: [sample and populatoin](https://stattrek.com/sampling/populations-and-samples.aspx)\n"
   ]
  },
  {
   "cell_type": "markdown",
   "metadata": {},
   "source": [
    "## Gaussian Equation\n",
    "\n",
    "<img src='./figs/gaussian.png'>\n",
    "\n",
    "* $\\mu$: population mean\n",
    "* $\\sigma$: standard deviation of the distribution\n",
    "* $x$: variable\n",
    "\n",
    "> From statistics, the mean and standard deviation are constants when dealing with a population. So for a specific population, the only value that varies is x.\n"
   ]
  },
  {
   "cell_type": "markdown",
   "metadata": {},
   "source": [
    "* The mean value is the center of the bell curve.\n",
    "* As the standard deviation increases, uncertainty increases as well.\n"
   ]
  },
  {
   "cell_type": "markdown",
   "metadata": {},
   "source": [
    "## Demo: Probability Density Function\n",
    "\n",
    "The code cell below calculates a Gaussian probability density function two ways. First, we're using the density function from the previous exercises. Then, we compare the results using the SciPy library's implementation.\n",
    "\n",
    "You'll see that the results are exactly the same."
   ]
  },
  {
   "cell_type": "code",
   "execution_count": 3,
   "metadata": {},
   "outputs": [
    {
     "name": "stdout",
     "output_type": "stream",
     "text": [
      "Probability density function our solution: mu = 50, sigma = 10, x = 50\n",
      "0.03989422804014327\n",
      "\n",
      "Probability density function SciPy: mu = 50, sigma = 10, x = 50\n",
      "0.03989422804014327\n"
     ]
    }
   ],
   "source": [
    "from scipy.stats import norm\n",
    "import numpy as np\n",
    "\n",
    "# our solution to calculate the probability density function\n",
    "def gaussian_density(x, mu, sigma):\n",
    "    return (1/np.sqrt(2*np.pi*np.power(sigma, 2.))) * np.exp(-np.power(x - mu, 2.) / (2 * np.power(sigma, 2.)))\n",
    "\n",
    "print(\"Probability density function our solution: mu = 50, sigma = 10, x = 50\")\n",
    "print(gaussian_density(50, 50, 10))\n",
    "print(\"\\nProbability density function SciPy: mu = 50, sigma = 10, x = 50\")\n",
    "print(norm(loc = 50, scale = 10).pdf(50))"
   ]
  },
  {
   "cell_type": "markdown",
   "metadata": {},
   "source": [
    "You might wonder why the Gaussian distribution is called \"norm\" in the SciPy library; it's because the Gaussian distribution is also called the normal distribution. \n",
    "\n",
    "Also, note that to initialize the distribution, the loc keyword is the mean and the scale keyword is the standard deviation.\n",
    "\n",
    "### Calculating Probability\n",
    "\n",
    "The area under the probability density function represents probability. Your job will be to write a function that calculates the probability between two x-values. For example, using the winter San Francisco temperature example, what is the probability that the temperature is between 30 degrees and 50 degrees? \n",
    "\n",
    "The SciPy library has a function that calculates the area under the curve for you. It's called cdf ([cumulative density function](https://en.wikipedia.org/wiki/Cumulative_distribution_function)). You can use the cdf SciPy method in a similar way to the pdf method. Run the code cell below to see an example."
   ]
  },
  {
   "cell_type": "code",
   "execution_count": 2,
   "metadata": {},
   "outputs": [
    {
     "data": {
      "text/plain": [
       "0.5"
      ]
     },
     "execution_count": 2,
     "metadata": {},
     "output_type": "execute_result"
    }
   ],
   "source": [
    "norm(loc = 50, scale = 10).cdf(50)"
   ]
  },
  {
   "cell_type": "markdown",
   "metadata": {},
   "source": [
    "Why is the output 0.5? The cdf method gives you the area under the curve from x = -infinity through the input, which in this case was 50. The area under the curve is 0.5 meaning there is a 50% chance that the temperature is between -infinity and 50 degrees.\n",
    "\n",
    "Run the code cell below to see a visualization of the area under the curve from -infinity to 50."
   ]
  },
  {
   "cell_type": "markdown",
   "metadata": {},
   "source": [
    "## Central Limit Theorem\n",
    "\n",
    "It says that if you take large enough samples from a population and then calculate the sample means, these means will be normally distributed. The theorem should hold as long as the sample size is large enough and the variable in question is independent and random."
   ]
  },
  {
   "cell_type": "markdown",
   "metadata": {},
   "source": [
    "#### A Population\n",
    "A population consists of all of the values of a data set. \n",
    "\n",
    "<img src='./figs/clm.png'>\n",
    "\n",
    "For example, the value 15 shows up in the population about 160 times. The value 50 shows up in the population about 70 times. In total, this population has 10,000 data points.\n",
    "\n",
    "Consider randomly grabbing 100 data points from this distribution. Call these 100 data points a <U>sample</U>. Then, calculate the mean value of the sample by random sampling over and over, **the mean values would have a Gaussian distribution**.\n",
    "\n",
    "It's amazing that a population distribution that does not look Gaussian at all becomes Gaussian as you take the mean of many samples."
   ]
  },
  {
   "cell_type": "code",
   "execution_count": null,
   "metadata": {},
   "outputs": [],
   "source": []
  }
 ],
 "metadata": {
  "kernelspec": {
   "display_name": "Python 3",
   "language": "python",
   "name": "python3"
  },
  "language_info": {
   "codemirror_mode": {
    "name": "ipython",
    "version": 3
   },
   "file_extension": ".py",
   "mimetype": "text/x-python",
   "name": "python",
   "nbconvert_exporter": "python",
   "pygments_lexer": "ipython3",
   "version": "3.6.5"
  }
 },
 "nbformat": 4,
 "nbformat_minor": 2
}
