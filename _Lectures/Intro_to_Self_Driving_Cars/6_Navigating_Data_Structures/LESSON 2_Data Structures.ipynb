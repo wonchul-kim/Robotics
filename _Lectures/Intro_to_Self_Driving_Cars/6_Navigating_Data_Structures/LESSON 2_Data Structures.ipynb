{
 "cells": [
  {
   "cell_type": "markdown",
   "metadata": {},
   "source": [
    "## Intro. to Dictionary \n",
    "Important things to remember about dictionaries!\n",
    "\n",
    "#### 1. Dictionaries associate `keys` with `values`\n",
    "The following dictionary has 2 keys (`\"abc\"` and `\"def\"`) and 2 values (`123` and `456`)\n",
    "\n",
    "```python\n",
    "d = {\"abc\":123, \"def\":456}\n",
    "```\n",
    "\n",
    "#### 2. Dictionaries are Unordered\n",
    "Two dictionaries are identical if they have the same keys **and** those keys are associated with the same values. Order doesn't matter.\n",
    "\n",
    "```python\n",
    "> d1 = {\"abc\":123, \"def\":456}\n",
    "> d2 = {\"def\":456, \"abc\":123}\n",
    "> d1 == d2\n",
    "True\n",
    "``` \n",
    "\n",
    "#### 3. Dictionaries are \"mutable\"\n",
    "This means they can be modified in various ways\n",
    "\n",
    "##### 3.1 adding new elements\n",
    "\n",
    "```python\n",
    "> d = {}\n",
    "> d['k'] = 'v'\n",
    "> print(d)\n",
    "{'k': 'v'}\n",
    "```\n",
    "\n",
    "##### 3.2 removing elements\n",
    "\n",
    "```python\n",
    "> del d['k']\n",
    "> print(d)\n",
    "{}\n",
    "```\n",
    "\n",
    "##### 3.3 changing elements\n",
    "\n",
    "```python\n",
    "> d['key'] = 'value' # first need to add an element back in\n",
    "> print(d)\n",
    "{'key': 'value'}\n",
    "\n",
    "> d['key'] = 'other value'\n",
    "> print(d)\n",
    "{'key' : 'other value'}\n",
    "```\n",
    "\n",
    "#### 4. Looping through a dictionary\n",
    "When looping through a dictionary, you loop through the **keys** of that dictionary. \n",
    "\n",
    "#### 5. Membership Testing\n",
    "\n",
    "Python's `in` keyword can be used to test if something is a **key** in a dictionary. "
   ]
  },
  {
   "cell_type": "markdown",
   "metadata": {},
   "source": [
    "## Introduction to Sets\n",
    "\n",
    "A `set` in Python is a collection of **unique** and **immutable** (unchangeable) objects.\n",
    "\n",
    "To get a feel for how a set works, take a look at the following code:"
   ]
  },
  {
   "cell_type": "code",
   "execution_count": 1,
   "metadata": {},
   "outputs": [
    {
     "name": "stdout",
     "output_type": "stream",
     "text": [
      "set()\n"
     ]
    }
   ],
   "source": [
    "# start with an empty set\n",
    "\n",
    "my_set = set()\n",
    "\n",
    "print(my_set)"
   ]
  },
  {
   "cell_type": "code",
   "execution_count": 2,
   "metadata": {},
   "outputs": [
    {
     "name": "stdout",
     "output_type": "stream",
     "text": [
      "{1, 2, 3, 'b', 'c', 'a'}\n"
     ]
    }
   ],
   "source": [
    "# add a few elements\n",
    "\n",
    "my_set.add('a')\n",
    "my_set.add('b')\n",
    "my_set.add('c')\n",
    "my_set.add(1)\n",
    "my_set.add(2)\n",
    "my_set.add(3)\n",
    "\n",
    "print(my_set)"
   ]
  },
  {
   "cell_type": "code",
   "execution_count": 3,
   "metadata": {},
   "outputs": [
    {
     "name": "stdout",
     "output_type": "stream",
     "text": [
      "1\n",
      "2\n",
      "3\n",
      "b\n",
      "c\n",
      "a\n"
     ]
    }
   ],
   "source": [
    "# like a dictionary, a set is UNORDERED. \n",
    "# We can still loop through a set though.\n",
    "\n",
    "for element in my_set:\n",
    "    print(element)"
   ]
  },
  {
   "cell_type": "code",
   "execution_count": 4,
   "metadata": {},
   "outputs": [
    {
     "name": "stdout",
     "output_type": "stream",
     "text": [
      "there are 6 elements in my_set\n"
     ]
    }
   ],
   "source": [
    "# let's see how many elements are in this set...\n",
    "\n",
    "print(\"there are\", len(my_set), \"elements in my_set\")"
   ]
  },
  {
   "cell_type": "code",
   "execution_count": 5,
   "metadata": {},
   "outputs": [
    {
     "name": "stdout",
     "output_type": "stream",
     "text": [
      "there are 6 elements in my_set\n"
     ]
    }
   ],
   "source": [
    "# can we make the set bigger by adding more \"copies\"\n",
    "# of existing elements?\n",
    "\n",
    "my_set.add(\"a\")\n",
    "my_set.add(\"a\")\n",
    "my_set.add(\"a\")\n",
    "my_set.add(\"a\")\n",
    "my_set.add(\"a\")\n",
    "my_set.add(\"a\")\n",
    "my_set.add(\"a\")\n",
    "my_set.add(\"a\")\n",
    "\n",
    "print(\"there are\", len(my_set), \"elements in my_set\")"
   ]
  },
  {
   "cell_type": "code",
   "execution_count": 6,
   "metadata": {},
   "outputs": [
    {
     "name": "stdout",
     "output_type": "stream",
     "text": [
      "{1, 2, 3, 'b', 'c', 'a'}\n"
     ]
    }
   ],
   "source": [
    "# there are still only 6 elements...\n",
    "# \n",
    "# that's because sets only care about UNIQUE elements.\n",
    "# They do not allow for multiple \"copies\"\n",
    "\n",
    "print(my_set)"
   ]
  },
  {
   "cell_type": "code",
   "execution_count": 7,
   "metadata": {},
   "outputs": [
    {
     "name": "stdout",
     "output_type": "stream",
     "text": [
      "there are 5 elements in my_set\n",
      "{1, 2, 3, 'b', 'c'}\n"
     ]
    }
   ],
   "source": [
    "# and they haven't changed. What if we remove \"a\"\n",
    "my_set.remove(\"a\")\n",
    "print(\"there are\", len(my_set), \"elements in my_set\")\n",
    "print(my_set)"
   ]
  },
  {
   "cell_type": "markdown",
   "metadata": {},
   "source": [
    "### The Power of Sets\n",
    "\n",
    "The `set` is inspired by a branch of mathematics called [set theory](https://en.wikipedia.org/wiki/Set_theory).\n",
    "\n",
    "The thing that makes sets so useful is that they allow us to take advantage of \"Venn Diagram logic\". \n",
    "\n",
    "For example, consider two sets. `primes`, which contains the prime numbers less than 10. And `odds` which contains the odd numbers below 10. A good way to think about the relationship between these sets is with a **Venn Diagram**"
   ]
  },
  {
   "cell_type": "markdown",
   "metadata": {},
   "source": [
    "![Venn Diagram](https://d17h27t6h515a5.cloudfront.net/topher/2017/November/5a023c16_sets-1/sets-1.png)\n",
    "\n",
    "In this diagram, the blue area contains odds, the red contains primes, and the overlapping purple region contains numbers which are both odd and prime."
   ]
  },
  {
   "cell_type": "markdown",
   "metadata": {},
   "source": [
    "## Note - Go slow here!\n",
    "\n",
    "The next few cells demonstrate some of the **methods** that sets have. As you read through them try to relate what each of these methods does to the Venn Diagram shown above."
   ]
  },
  {
   "cell_type": "code",
   "execution_count": 8,
   "metadata": {},
   "outputs": [],
   "source": [
    "# Initializing two sets\n",
    "\n",
    "odds   = set([1,3,5,7,9])\n",
    "primes = set([2,3,5,7])"
   ]
  },
  {
   "cell_type": "code",
   "execution_count": 9,
   "metadata": {},
   "outputs": [
    {
     "name": "stdout",
     "output_type": "stream",
     "text": [
      "{3, 5, 7}\n"
     ]
    }
   ],
   "source": [
    "# Demonstration of the \"intersection\" between two sets\n",
    "# The intersection corresponds to the overlapping region\n",
    "# in the Venn Diagram above.\n",
    "\n",
    "odd_AND_prime = odds.intersection(primes)\n",
    "print(odd_AND_prime)"
   ]
  },
  {
   "cell_type": "code",
   "execution_count": 10,
   "metadata": {},
   "outputs": [
    {
     "name": "stdout",
     "output_type": "stream",
     "text": [
      "{1, 2, 3, 5, 7, 9}\n"
     ]
    }
   ],
   "source": [
    "# Demonstration of the \"union\" of two sets. The union\n",
    "# of sets A and B includes ANY element that is in A OR B \n",
    "# or both.\n",
    "\n",
    "odd_OR_prime = odds.union(primes)\n",
    "print(odd_OR_prime)"
   ]
  },
  {
   "cell_type": "code",
   "execution_count": 11,
   "metadata": {},
   "outputs": [
    {
     "name": "stdout",
     "output_type": "stream",
     "text": [
      "{1, 9}\n"
     ]
    }
   ],
   "source": [
    "# Demonstration of the \"set difference\" between two sets.\n",
    "# What do you expect odds-primes to return?\n",
    "\n",
    "odd_not_prime = odds - primes\n",
    "print(odd_not_prime)"
   ]
  },
  {
   "cell_type": "code",
   "execution_count": 12,
   "metadata": {},
   "outputs": [
    {
     "name": "stdout",
     "output_type": "stream",
     "text": [
      "{2}\n"
     ]
    }
   ],
   "source": [
    "# Another demo of \"set difference\"\n",
    "\n",
    "prime_not_odd = primes - odds\n",
    "print(prime_not_odd)"
   ]
  },
  {
   "cell_type": "markdown",
   "metadata": {},
   "source": [
    "### Union vs Intersection\n",
    "\n",
    "The **union** of two sets A and B contains elements that are in A *or* B *or* both. The **intersection** contains elements that are in both.\n",
    "\n",
    "![set union vs intersection](https://d17h27t6h515a5.cloudfront.net/topher/2017/November/5a04a22f_sets-2/sets-2.png)"
   ]
  },
  {
   "cell_type": "markdown",
   "metadata": {},
   "source": [
    "### `A-B` vs `B-A`\n",
    "\n",
    "**`A-B`** contains elements that are in A *but not* in B.\n",
    "**`B-A`** contains elements that are in B *but not* in A.\n",
    "\n",
    "![set_a - set_b](https://d17h27t6h515a5.cloudfront.net/topher/2017/November/5a04a22f_sets-3/sets-3.png)\n",
    "\n",
    "![set_b - set_a](https://d17h27t6h515a5.cloudfront.net/topher/2017/November/5a04a230_sets-4/sets-4.png)"
   ]
  },
  {
   "cell_type": "markdown",
   "metadata": {},
   "source": [
    "## TODO - Exercise: A or B but not both\n",
    "Write a function that takes two sets (`set_a` and `set_b`) as input and returns a new set which contains elements that are either in `set_a` OR `set_b` but **not** in both. \n",
    "\n",
    "In the Venn Diagram above this would include everything in the diagram EXCEPT the overlapping middle area. In this case that would be the numbers 9, 1, and 2\n",
    "\n",
    "NOTE - Try to use all of the following set operations in your answer:\n",
    "\n",
    "* **`intersection`**\n",
    "* **`union`**\n",
    "* **`difference`**"
   ]
  },
  {
   "cell_type": "code",
   "execution_count": 13,
   "metadata": {},
   "outputs": [
    {
     "ename": "AssertionError",
     "evalue": "",
     "output_type": "error",
     "traceback": [
      "\u001b[0;31m---------------------------------------------------------------------------\u001b[0m",
      "\u001b[0;31mAssertionError\u001b[0m                            Traceback (most recent call last)",
      "\u001b[0;32m<ipython-input-13-292ef56ab45b>\u001b[0m in \u001b[0;36m<module>\u001b[0;34m\u001b[0m\n\u001b[1;32m      6\u001b[0m \u001b[0;34m\u001b[0m\u001b[0m\n\u001b[1;32m      7\u001b[0m \u001b[0;31m# testing code\u001b[0m\u001b[0;34m\u001b[0m\u001b[0;34m\u001b[0m\u001b[0;34m\u001b[0m\u001b[0m\n\u001b[0;32m----> 8\u001b[0;31m \u001b[0;32massert\u001b[0m \u001b[0ma_or_b_but_not_both\u001b[0m\u001b[0;34m(\u001b[0m\u001b[0modds\u001b[0m\u001b[0;34m,\u001b[0m \u001b[0mprimes\u001b[0m\u001b[0;34m)\u001b[0m \u001b[0;34m==\u001b[0m \u001b[0mset\u001b[0m\u001b[0;34m(\u001b[0m\u001b[0;34m[\u001b[0m\u001b[0;36m9\u001b[0m\u001b[0;34m,\u001b[0m\u001b[0;36m1\u001b[0m\u001b[0;34m,\u001b[0m\u001b[0;36m2\u001b[0m\u001b[0;34m]\u001b[0m\u001b[0;34m)\u001b[0m\u001b[0;34m\u001b[0m\u001b[0;34m\u001b[0m\u001b[0m\n\u001b[0m\u001b[1;32m      9\u001b[0m \u001b[0mprint\u001b[0m\u001b[0;34m(\u001b[0m\u001b[0;34m\"Nice job! Your function works correctly!\"\u001b[0m\u001b[0;34m)\u001b[0m\u001b[0;34m\u001b[0m\u001b[0;34m\u001b[0m\u001b[0m\n",
      "\u001b[0;31mAssertionError\u001b[0m: "
     ]
    }
   ],
   "source": [
    "def a_or_b_but_not_both(set_a, set_b):\n",
    "    \"\"\"Returns a set which contains any element that is \n",
    "    a member of set_a OR a member of set_b but NOT a member\n",
    "    of both.\"\"\"\n",
    "    return \n",
    "\n",
    "# testing code\n",
    "assert a_or_b_but_not_both(odds, primes) == set([9,1,2])\n",
    "print(\"Nice job! Your function works correctly!\")"
   ]
  },
  {
   "cell_type": "code",
   "execution_count": 15,
   "metadata": {},
   "outputs": [],
   "source": [
    "# Solution 1\n",
    "def a_or_b_but_not_both(set_a, set_b):\n",
    "    \"\"\"Returns a set which contains any element that is \n",
    "    a member of set_a OR a member of set_b but NOT a member\n",
    "    of both.\"\"\"\n",
    "    a_and_b = set_a.intersection(set_b)\n",
    "    a_or_b = set_a.union(set_b)\n",
    "    return a_or_b - a_and_b\n",
    "\n",
    "assert a_or_b_but_not_both(odds, primes) == set([9,1,2])"
   ]
  },
  {
   "cell_type": "code",
   "execution_count": 16,
   "metadata": {},
   "outputs": [],
   "source": [
    "# Solution 2\n",
    "def a_or_b_but_not_both(set_a, set_b):\n",
    "    \"\"\"Returns a set which contains any element that is \n",
    "    a member of set_a OR a member of set_b but NOT a member\n",
    "    of both.\"\"\"\n",
    "    a_without_b = set_a - set_b\n",
    "    b_without_a = set_b - set_a\n",
    "    return a_without_b.union(b_without_a)\n",
    "\n",
    "assert a_or_b_but_not_both(odds, primes) == set([9,1,2])"
   ]
  },
  {
   "cell_type": "code",
   "execution_count": 17,
   "metadata": {},
   "outputs": [],
   "source": [
    "# Solution 3\n",
    "# \n",
    "# There is actually a REALLY succinct way of writing this \n",
    "# function using a single character. I'm not going to tell\n",
    "# you what that is now, but at the end of this notebook \n",
    "# you'll find a link to Python documentation that will..."
   ]
  },
  {
   "cell_type": "markdown",
   "metadata": {},
   "source": [
    "### Great, what about those tickets? And labels?"
   ]
  },
  {
   "cell_type": "code",
   "execution_count": 18,
   "metadata": {},
   "outputs": [
    {
     "name": "stdout",
     "output_type": "stream",
     "text": [
      "Nice job! Your function works correctly!\n"
     ]
    }
   ],
   "source": [
    "def consolidate_labels(t1_labels, t2_labels):\n",
    "    \"\"\"\n",
    "    Combines labels from two tickets without duplication.\n",
    "    \n",
    "    Given t1_labels and t2_labels (both lists), return \n",
    "    a consolidated list of labels without duplicates.\n",
    "    \"\"\"\n",
    "    \n",
    "    # TODO - rewrite this function to use sets. You should\n",
    "    #   be able to replace all the code below with 1 or 2\n",
    "    #   lines if you use sets appropriately.\n",
    "    # \n",
    "    # NOTE - to convert a set back to a list, you can\n",
    "    #   use the list() function (demonstrated in the\n",
    "    #   cell below).\n",
    "    \n",
    "    combined = []\n",
    "    for label in t1_labels:\n",
    "        if label not in combined:\n",
    "            combined.append(label)\n",
    "    for label in t2_labels:\n",
    "        if label not in combined:\n",
    "            combined.append(label)\n",
    "    return combined\n",
    "\n",
    "\n",
    "# testing code\n",
    "labels_1 = [\"python\", \"bug\", \"localization\", \"bug\"]\n",
    "labels_2 = [\"planning\", \"localization\"]\n",
    "\n",
    "combined_labels = consolidate_labels(labels_1, labels_2)\n",
    "\n",
    "assert( set(combined_labels) == set([\"python\", \"bug\", \n",
    "                                     \"localization\", \"planning\"]))\n",
    "print(\"Nice job! Your function works correctly!\")"
   ]
  },
  {
   "cell_type": "code",
   "execution_count": 19,
   "metadata": {},
   "outputs": [
    {
     "name": "stdout",
     "output_type": "stream",
     "text": [
      "odds:         [1, 3, 5, 7, 9]\n",
      "as set:       {1, 3, 5, 7, 9}\n",
      "back to list: [1, 3, 5, 7, 9]\n"
     ]
    }
   ],
   "source": [
    "# demonstration of Python's list() and set() functions\n",
    "\n",
    "odds = [1,3,5,7,9]\n",
    "odds_as_set = set(odds)\n",
    "odds_back_to_list = list(odds_as_set)\n",
    "\n",
    "print(\"odds:        \", odds)\n",
    "print(\"as set:      \", odds_as_set)\n",
    "print(\"back to list:\", odds_back_to_list)"
   ]
  },
  {
   "cell_type": "code",
   "execution_count": 20,
   "metadata": {},
   "outputs": [],
   "source": [
    "#\n",
    "\n",
    "#\n",
    "\n",
    "#\n",
    "\n",
    "# Spoiler alert! solution below!\n",
    "\n",
    "#\n",
    "\n",
    "#\n",
    "\n",
    "#"
   ]
  },
  {
   "cell_type": "code",
   "execution_count": 21,
   "metadata": {},
   "outputs": [],
   "source": [
    "# andy's solution\n",
    "def consolidate_labels(t1_labels, t2_labels):\n",
    "    \"\"\"\n",
    "    Combines labels from two tickets without duplication.\n",
    "    \n",
    "    Given t1_labels and t2_labels (both lists), return \n",
    "    a consolidated list of labels without duplicates.\n",
    "    \"\"\"\n",
    "    return set(t1_labels).union(set(t2_labels))\n",
    "\n",
    "labels_1 = [\"python\", \"bug\", \"localization\", \"bug\"]\n",
    "labels_2 = [\"planning\", \"localization\"]\n",
    "\n",
    "combined_labels = consolidate_labels(labels_1, labels_2)\n",
    "\n",
    "assert( set(combined_labels) == set([\"python\", \"bug\", \n",
    "                                     \"localization\", \"planning\"]))"
   ]
  },
  {
   "cell_type": "markdown",
   "metadata": {},
   "source": [
    "### Additional set notation!\n",
    "\n",
    "Now that you're getting more familiar with a variety of data structures, it's important to learn how to work with the documentation that describes these data structures.\n",
    "\n",
    "Check out the [Python documentation on sets](https://docs.python.org/3/tutorial/datastructures.html#sets) and see if you can find an operator that solves the \"a_or_b_but_not_both\" problem from earlier..."
   ]
  },
  {
   "cell_type": "markdown",
   "metadata": {},
   "source": [
    "## Performance Considerations\n",
    "\n",
    "Until now, our reasons for using one data structure over another have mostly had to do with convenience and readability. But there's another reason to use dictionaries and sets over lists. <U>Speed</U>!\n",
    "\n",
    "When the data is huge, the impact of speed is also huge.\n"
   ]
  },
  {
   "cell_type": "code",
   "execution_count": 1,
   "metadata": {},
   "outputs": [],
   "source": [
    "import time\n",
    "import random\n",
    "from matplotlib import pyplot as plt"
   ]
  },
  {
   "cell_type": "markdown",
   "metadata": {},
   "source": [
    "### Lists, Timing, and Performance\n",
    "\n",
    "Specifically, we're going to see how the time it takes to perform a **membership check** on a list is affected by various properties of the list. A \"membership check\" is what you do when you write code like:\n",
    "\n",
    "```python\n",
    "my_list = [1,2,3]\n",
    "if 3 in my_list:\n",
    "    # we just checked my_list for membership\n",
    "    # of the element 3 \n",
    "```\n",
    "\n",
    "Let's explore the following two questions in code:\n",
    "\n",
    "1. When an element IS in a list, does the location of that element (near the beginning vs near the end) impact the time it takes to perform a membership check?\n",
    "\n",
    "2. When an element IS NOT in a list, does the size of the list impact the time it takes to perform a membership check?\n",
    "\n",
    "What we find will motivate a more in depth discussion about the tradeoffs between lists and other data structures."
   ]
  },
  {
   "cell_type": "code",
   "execution_count": 2,
   "metadata": {},
   "outputs": [
    {
     "data": {
      "text/plain": [
       "True"
      ]
     },
     "execution_count": 2,
     "metadata": {},
     "output_type": "execute_result"
    }
   ],
   "source": [
    "# before we continue, make sure you understand \n",
    "# what we mean by \"testing for membership\" in a list. \n",
    "\n",
    "L = [1,2,3]\n",
    "2 in L"
   ]
  },
  {
   "cell_type": "markdown",
   "metadata": {},
   "source": [
    "## Question 1\n",
    "> Does position in list impact the time it takes to perform a membership test?\n",
    "\n",
    "First we're going to need to figure out how to do these timings..."
   ]
  },
  {
   "cell_type": "code",
   "execution_count": 3,
   "metadata": {},
   "outputs": [
    {
     "name": "stdout",
     "output_type": "stream",
     "text": [
      "[0, 1, 2, 3, 4, 5, 6, 7, 8, 9]\n"
     ]
    }
   ],
   "source": [
    "# let's make a small list to begin with\n",
    "L = list(range(10))\n",
    "print(L)"
   ]
  },
  {
   "cell_type": "code",
   "execution_count": 4,
   "metadata": {},
   "outputs": [
    {
     "name": "stdout",
     "output_type": "stream",
     "text": [
      "0.05900000000003125 milliseconds to find 0 in list\n"
     ]
    }
   ],
   "source": [
    "# now let's time how long it takes to check for \n",
    "# membership of the very first element (0)...\n",
    "\n",
    "element = 0\n",
    "\n",
    "start_time = time.clock()\n",
    "\n",
    "element in L     # this line of code looks weird \n",
    "                 # but it's valid python!\n",
    "\n",
    "end_time =   time.clock()\n",
    "\n",
    "# make sure you understand why the following code makes sense.\n",
    "duration_in_seconds = end_time - start_time\n",
    "milliseconds = duration_in_seconds * 1000\n",
    "\n",
    "print(milliseconds, \"milliseconds to find 0 in list\")"
   ]
  },
  {
   "cell_type": "code",
   "execution_count": 5,
   "metadata": {},
   "outputs": [
    {
     "name": "stdout",
     "output_type": "stream",
     "text": [
      "on average, it took 0.015384999999999982 ms per membership test\n"
     ]
    }
   ],
   "source": [
    "# Run the above code a few times. You should notice that the time\n",
    "# can change quite a bit. What we actually want is to conduct\n",
    "# this experiment a bunch of times and find the average. \n",
    "\n",
    "\n",
    "L = list(range(1000)) # use a bigger list\n",
    "element = 500         # look in the middle of the list\n",
    "num_trials = 1000     # perform experiment many times\n",
    "\n",
    "start = time.clock()\n",
    "for _ in range(num_trials):\n",
    "    element in L\n",
    "end = time.clock()\n",
    "secs = end-start\n",
    "millis = secs * 1000\n",
    "millis_per_check = millis/num_trials\n",
    "print(\"on average, it took\", millis_per_check, \"ms per membership test\")"
   ]
  },
  {
   "cell_type": "code",
   "execution_count": 6,
   "metadata": {},
   "outputs": [
    {
     "name": "stdout",
     "output_type": "stream",
     "text": [
      "on average, it took 0.004700000000001925 ms per membership test\n"
     ]
    }
   ],
   "source": [
    "# That's a useful bit of code! \n",
    "# Let's generalize it and turn it into a reusable function\n",
    "\n",
    "def avg_millis_to_check_el_in_list(element, target_list, N=20):\n",
    "    start = time.clock()\n",
    "    for _ in range(N):\n",
    "        element in target_list\n",
    "    end = time.clock()\n",
    "    return (end-start)*1000 / N\n",
    "\n",
    "avg_millis = avg_millis_to_check_el_in_list(500, list(range(1000)))\n",
    "print(\"on average, it took\", avg_millis, \"ms per membership test\")"
   ]
  },
  {
   "cell_type": "code",
   "execution_count": 7,
   "metadata": {},
   "outputs": [
    {
     "name": "stdout",
     "output_type": "stream",
     "text": [
      "T_beginning:  0.010049999999994785\n",
      "T_middle:     4.61959999999999\n",
      "T_end:        9.025850000000002\n"
     ]
    }
   ],
   "source": [
    "# now we can compare time to lookup low numbers (near the \n",
    "# beginning of the list) vs higher numbers (near the end).\n",
    "\n",
    "# Let's use a really big list this time\n",
    "list_size = 1000000\n",
    "L = list(range(list_size))\n",
    "\n",
    "# Now make three separate timings...\n",
    "T_beginning = avg_millis_to_check_el_in_list(1000, L)\n",
    "T_middle    = avg_millis_to_check_el_in_list(500000, L)\n",
    "T_end       = avg_millis_to_check_el_in_list(999999, L)\n",
    "\n",
    "print(\"T_beginning: \", T_beginning)\n",
    "print(\"T_middle:    \", T_middle)\n",
    "print(\"T_end:       \", T_end)"
   ]
  },
  {
   "cell_type": "markdown",
   "metadata": {},
   "source": [
    "Interesting! There's clearly a relationship. Let's see if we can dig deeper though. A [scatter plot](https://matplotlib.org/devdocs/api/_as_gen/matplotlib.pyplot.scatter.html) showing average time vs position in list might help us out here."
   ]
  },
  {
   "cell_type": "code",
   "execution_count": 8,
   "metadata": {},
   "outputs": [
    {
     "name": "stdout",
     "output_type": "stream",
     "text": [
      "positions checked: [0, 10000, 20000, 30000, 40000, 50000, 60000, 70000, 80000, 90000]\n",
      "average millis:    [0.00034999999999341114, 0.14704999999999302, 0.2730499999999969, 0.3358499999999931, 0.40930000000000133, 0.5013500000000004, 0.5464000000000024, 0.6290499999999977, 0.7179999999999964, 0.811649999999997]\n"
     ]
    }
   ],
   "source": [
    "# Making a scatter plot of position in list (X-axis)\n",
    "# vs. average time to find element (y-axis)\n",
    "\n",
    "list_size = 100000\n",
    "L = list(range(list_size))\n",
    "\n",
    "# check between start and end in increments of 10000. This will\n",
    "# be our X axis too!\n",
    "positions = list(range(0, list_size, 10000))\n",
    "\n",
    "# use list comprehension to generate Y-axis data!\n",
    "millis = [avg_millis_to_check_el_in_list(pos, L) for pos in positions]\n",
    "\n",
    "# first, let's look at the raw data\n",
    "print(\"positions checked:\", positions)\n",
    "print(\"average millis:   \", millis)"
   ]
  },
  {
   "cell_type": "code",
   "execution_count": 9,
   "metadata": {},
   "outputs": [
    {
     "data": {
      "image/png": "[encoded data removed]",
      "text/plain": [
       "<Figure size 432x288 with 1 Axes>"
      ]
     },
     "metadata": {
      "needs_background": "light"
     },
     "output_type": "display_data"
    }
   ],
   "source": [
    "# now let's make the scatter plot!\n",
    "X = positions \n",
    "Y = millis\n",
    "plt.scatter(X, Y)\n",
    "plt.title(\"Membership Test Time\\nvs Position in List\")\n",
    "plt.xlabel(\"Position in List\")\n",
    "plt.ylabel(\"Average # of millis / test\")\n",
    "plt.show()"
   ]
  },
  {
   "cell_type": "markdown",
   "metadata": {},
   "source": [
    "### Answer to Question 1\n",
    "Yes! Where an element is in a list **definitely** impacts how long it takes to discover that the element exists in the list!\n",
    "\n",
    "Elements near the beginning of a list are found very quickly. Elements near the end of the list take longer. "
   ]
  },
  {
   "cell_type": "markdown",
   "metadata": {},
   "source": [
    "## Question 2 \n",
    "> Does the size of a list impact the time it takes to test for membership of elements when they are NOT in the list?"
   ]
  },
  {
   "cell_type": "code",
   "execution_count": 10,
   "metadata": {},
   "outputs": [],
   "source": [
    "# Let's jump right into writing a function\n",
    "\n",
    "def avg_millis_to_test_for_non_existent_el(list_size, num_trials=20):\n",
    "    # 1. prepare list and nonexistent element\n",
    "    L = list(range(list_size))\n",
    "    element = -1\n",
    "    \n",
    "    # 2. start the timer\n",
    "    start = time.clock()\n",
    "    \n",
    "    # 3. repeat membership test num_trials times\n",
    "    for _ in range(num_trials):\n",
    "        element in L\n",
    "    \n",
    "    # 4. stop the timer\n",
    "    end = time.clock()\n",
    "    \n",
    "    # 5. do the math and return the result\n",
    "    millis_per_test = (end-start) * 1000 / num_trials\n",
    "    return millis_per_test"
   ]
  },
  {
   "cell_type": "code",
   "execution_count": 11,
   "metadata": {},
   "outputs": [
    {
     "name": "stdout",
     "output_type": "stream",
     "text": [
      "T_small:  0.32564999999999955\n",
      "T_medium: 1.253150000000014\n",
      "T_large:  8.302149999999987\n"
     ]
    }
   ],
   "source": [
    "# Let's use this function on lists of different sizes\n",
    "small  = 10000\n",
    "medium = 100000\n",
    "large  = 1000000\n",
    "\n",
    "T_small  = avg_millis_to_test_for_non_existent_el(small)\n",
    "T_medium = avg_millis_to_test_for_non_existent_el(medium)\n",
    "T_large  = avg_millis_to_test_for_non_existent_el(large)\n",
    "\n",
    "print(\"T_small: \", T_small)\n",
    "print(\"T_medium:\", T_medium)\n",
    "print(\"T_large: \", T_large)"
   ]
  },
  {
   "cell_type": "code",
   "execution_count": 12,
   "metadata": {},
   "outputs": [
    {
     "data": {
      "image/png": "[encoded data removed]",
      "text/plain": [
       "<Figure size 432x288 with 1 Axes>"
      ]
     },
     "metadata": {
      "needs_background": "light"
     },
     "output_type": "display_data"
    }
   ],
   "source": [
    "sizes = list(range(100000, 1000000, 100000))\n",
    "times = [avg_millis_to_test_for_non_existent_el(s) for s in sizes]\n",
    "plt.scatter(sizes, times)\n",
    "plt.xlabel(\"List Size\")\n",
    "plt.ylabel(\"Avg Millis\")\n",
    "plt.show()"
   ]
  },
  {
   "cell_type": "markdown",
   "metadata": {},
   "source": [
    "### Answer to Question 2\n",
    "Yes! When checking for membership of an element in a list, itt takes longer to figure out an element **doesn't** exist in that list when the list is big.\n",
    "\n",
    "### Next Steps\n",
    "Either continue on or keep exploring more about lists and timing. If you do keep exploring and you find anything interesting be sure to share it in Student Hub!"
   ]
  },
  {
   "cell_type": "markdown",
   "metadata": {},
   "source": [
    "The time it takes to test for membership in a list \"scales linearly\" with the size of the list. That just means if you double the size of the list you double the amount of time it takes to test for membership of an element (on average).\n",
    "\n",
    "    Note: As you learn more, you might see this algorithm described as \"big O of N\", or mathematically as O(n)\\mathcal{O}(n)O(n). We aren't going to get too deep into the topic at this time, but this notation is all about the analysis of algorithms in relation to their efficiency.\n"
   ]
  },
  {
   "cell_type": "markdown",
   "metadata": {},
   "source": [
    "# Performance of Sets and Dictionaries"
   ]
  },
  {
   "cell_type": "code",
   "execution_count": 13,
   "metadata": {},
   "outputs": [],
   "source": [
    "# Run this cell first!\n",
    "\n",
    "import time\n",
    "import random\n",
    "from matplotlib import pyplot as plt"
   ]
  },
  {
   "cell_type": "code",
   "execution_count": 14,
   "metadata": {},
   "outputs": [
    {
     "name": "stdout",
     "output_type": "stream",
     "text": [
      "Execution complete! That took 2.7449999999999974 milliseconds\n"
     ]
    }
   ],
   "source": [
    "# SMALL list membership tests\n",
    "\n",
    "small_list = list(range(10)) # ten element list of integers\n",
    "nonexistent_element = -1\n",
    "num_trials = 5000\n",
    "\n",
    "start = time.clock()\n",
    "\n",
    "# do lots of membership tests\n",
    "for _ in range(num_trials):\n",
    "    nonexistent_element in small_list\n",
    "\n",
    "end = time.clock()\n",
    "millis = (end-start) * 1000\n",
    "print(\"Execution complete! That took\", millis, \"milliseconds\")"
   ]
  },
  {
   "cell_type": "code",
   "execution_count": 15,
   "metadata": {},
   "outputs": [
    {
     "name": "stdout",
     "output_type": "stream",
     "text": [
      "Execution complete! That took 4121.16 milliseconds\n"
     ]
    }
   ],
   "source": [
    "# BIG list membership tests\n",
    "\n",
    "big_list = list(range(100000)) # 100K element list of integers\n",
    "nonexistent_element = -1\n",
    "num_trials = 5000\n",
    "\n",
    "start = time.clock()\n",
    "\n",
    "# do lots of membership tests\n",
    "for _ in range(num_trials):\n",
    "    nonexistent_element in big_list\n",
    "\n",
    "end = time.clock()\n",
    "millis = (end-start) * 1000\n",
    "print(\"Execution complete! That took\", millis, \"milliseconds\")"
   ]
  },
  {
   "cell_type": "markdown",
   "metadata": {},
   "source": [
    "That was **boring** wasn't it?\n",
    "\n",
    "Waiting for code to execute (even if it only takes a few seconds) has been proven to be the most boring activity in the world. And when code is slow on a self driving car it can be downright dangerous.\n",
    "\n",
    "Luckily, we can often speed things up **a lot** by choosing the right data structure."
   ]
  },
  {
   "cell_type": "code",
   "execution_count": 16,
   "metadata": {},
   "outputs": [
    {
     "name": "stdout",
     "output_type": "stream",
     "text": [
      "Execution complete! That took 0.8660000000002555 milliseconds\n"
     ]
    }
   ],
   "source": [
    "# SMALL set membership tests\n",
    "\n",
    "small_set = set(range(10)) # ten element list of integers\n",
    "nonexistent_element = -1\n",
    "num_trials = 5000\n",
    "\n",
    "start = time.clock()\n",
    "\n",
    "# do lots of membership tests\n",
    "for _ in range(num_trials):\n",
    "    nonexistent_element in small_set\n",
    "\n",
    "end = time.clock()\n",
    "millis = (end-start) * 1000\n",
    "print(\"Execution complete! That took\", millis, \"milliseconds\")"
   ]
  },
  {
   "cell_type": "markdown",
   "metadata": {},
   "source": [
    "### Drum roll please!\n",
    "\n",
    "![drum roll](https://d17h27t6h515a5.cloudfront.net/topher/2017/November/5a04cbf1_drum-roll/drum-roll.gif)\n",
    "\n",
    "Remember how *painfully slow* the big list was? Well hold on to your seat!"
   ]
  },
  {
   "cell_type": "code",
   "execution_count": 18,
   "metadata": {},
   "outputs": [
    {
     "name": "stdout",
     "output_type": "stream",
     "text": [
      "Execution complete! That took 0.6819999999994053 milliseconds\n"
     ]
    }
   ],
   "source": [
    "# BIG set membership tests\n",
    "\n",
    "big_set = set(range(100000)) # 100K element list of integers\n",
    "nonexistent_element = -1\n",
    "num_trials = 5000\n",
    "\n",
    "start = time.clock()\n",
    "\n",
    "# do lots of membership tests\n",
    "for _ in range(num_trials):\n",
    "    nonexistent_element in big_set\n",
    "\n",
    "end = time.clock()\n",
    "millis = (end-start) * 1000\n",
    "print(\"Execution complete! That took\", millis, \"milliseconds\")"
   ]
  },
  {
   "cell_type": "code",
   "execution_count": 19,
   "metadata": {},
   "outputs": [],
   "source": [
    "def test_data_structure_speed(data_structure_type, size, N=50):\n",
    "    if data_structure_type != dict:\n",
    "        data_structure = data_structure_type(range(size))\n",
    "    else:\n",
    "        data_structure = {num: \"value\" for num in range(size)}\n",
    "    nonexistent_element = -1\n",
    "    \n",
    "    start = time.clock()\n",
    "    for _ in range(N):\n",
    "        nonexistent_element in data_structure\n",
    "    end = time.clock()\n",
    "    \n",
    "    millis = (end-start) * 1000\n",
    "    return millis    "
   ]
  },
  {
   "cell_type": "code",
   "execution_count": 21,
   "metadata": {},
   "outputs": [
    {
     "data": {
      "text/plain": [
       "0.12000000000078614"
      ]
     },
     "execution_count": 21,
     "metadata": {},
     "output_type": "execute_result"
    }
   ],
   "source": [
    "# set test\n",
    "test_data_structure_speed(set, 100000, N=1000)"
   ]
  },
  {
   "cell_type": "code",
   "execution_count": 22,
   "metadata": {},
   "outputs": [
    {
     "data": {
      "text/plain": [
       "830.1759999999998"
      ]
     },
     "execution_count": 22,
     "metadata": {},
     "output_type": "execute_result"
    }
   ],
   "source": [
    "# list test\n",
    "test_data_structure_speed(list, 100000, N=1000)"
   ]
  },
  {
   "cell_type": "code",
   "execution_count": 23,
   "metadata": {},
   "outputs": [
    {
     "data": {
      "text/plain": [
       "0.03500000000045134"
      ]
     },
     "execution_count": 23,
     "metadata": {},
     "output_type": "execute_result"
    }
   ],
   "source": [
    "# dictionary test\n",
    "test_data_structure_speed(dict, 100000, N=1000)"
   ]
  },
  {
   "cell_type": "code",
   "execution_count": 24,
   "metadata": {},
   "outputs": [
    {
     "data": {
      "image/png": "[encoded data removed]",
      "text/plain": [
       "<Figure size 432x288 with 1 Axes>"
      ]
     },
     "metadata": {
      "needs_background": "light"
     },
     "output_type": "display_data"
    }
   ],
   "source": [
    "sizes = list(range(0, 500000, 25000))\n",
    "list_speeds = [test_data_structure_speed(list, size) for size in sizes]\n",
    "set_speeds  = [test_data_structure_speed(set,  size) for size in sizes]\n",
    "dict_speeds = [test_data_structure_speed(dict, size) for size in sizes]\n",
    "\n",
    "plt.scatter(sizes, list_speeds, c='g', marker=\"o\") #green circle\n",
    "plt.scatter(sizes, set_speeds,  c='r', marker=\"D\") #red diamond\n",
    "plt.scatter(sizes, dict_speeds, c='b', marker=\"*\") #blue star\n",
    "\n",
    "plt.xlabel(\"Data Structure Size\")\n",
    "plt.ylabel(\"Total Time (ms)\")\n",
    "plt.legend([\"List\", \"Set\", \"Dictionary\"])\n",
    "plt.title(\"Comparing Membership Testing Times\")\n",
    "plt.show()"
   ]
  },
  {
   "cell_type": "markdown",
   "metadata": {},
   "source": [
    "As you can see, the performance of sets and dictionaries does not depend on the size of the set / dictionary and membership tests are consistently **fast**. Fast is good."
   ]
  },
  {
   "cell_type": "markdown",
   "metadata": {},
   "source": [
    "### Choosing Good Data Structures\n",
    "Lists\n",
    "\n",
    "Lists are good when:\n",
    "\n",
    "    Your data is ordered (and indexing based on position-in-list makes sense).\n",
    "    You need to keep track of duplicates.\n",
    "    Your data is mutable (dictionary keys and elements in a set must be immutable).\n",
    "\n",
    "Sets\n",
    "\n",
    "Sets are good for:\n",
    "\n",
    "    Fast membership testing.\n",
    "    Removing duplicates from a sequence.\n",
    "    Computing mathematical operations like intersection, union, and difference.\n",
    "\n",
    "Dictionaries\n",
    "\n",
    "Dictionaries are good when:\n",
    "\n",
    "    You want to associate keys with values.\n",
    "    You want fast key-based lookups.\n",
    "\n"
   ]
  },
  {
   "cell_type": "code",
   "execution_count": null,
   "metadata": {},
   "outputs": [],
   "source": []
  }
 ],
 "metadata": {
  "kernelspec": {
   "display_name": "Python 3",
   "language": "python",
   "name": "python3"
  },
  "language_info": {
   "codemirror_mode": {
    "name": "ipython",
    "version": 3
   },
   "file_extension": ".py",
   "mimetype": "text/x-python",
   "name": "python",
   "nbconvert_exporter": "python",
   "pygments_lexer": "ipython3",
   "version": "3.6.5"
  }
 },
 "nbformat": 4,
 "nbformat_minor": 2
}
