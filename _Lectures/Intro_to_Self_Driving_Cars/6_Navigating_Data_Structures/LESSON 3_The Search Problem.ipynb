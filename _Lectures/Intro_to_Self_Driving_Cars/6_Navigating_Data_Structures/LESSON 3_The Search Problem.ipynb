{
 "cells": [
  {
   "cell_type": "markdown",
   "metadata": {},
   "source": [
    "<img src='./figs/q1.png'>"
   ]
  },
  {
   "cell_type": "markdown",
   "metadata": {},
   "source": [
    "[![Video Label](http://img.youtube.com/vi/JbJMxp3Lva4/0.jpg)](https://www.youtube.com/watch?v=JbJMxp3Lva4) "
   ]
  },
  {
   "cell_type": "markdown",
   "metadata": {},
   "source": [
    "[![Video Label](http://img.youtube.com/vi/Fh5b8xVJhR8/0.jpg)](https://www.youtube.com/watch?v=Fh5b8xVJhR8)"
   ]
  },
  {
   "cell_type": "markdown",
   "metadata": {},
   "source": [
    "<img src='./figs/q3.png'>"
   ]
  },
  {
   "cell_type": "markdown",
   "metadata": {},
   "source": [
    "[![Video Label](http://img.youtube.com/vi/8xH-3WtswDs/0.jpg)](https://www.youtube.com/watch?v=8xH-3WtswDs)"
   ]
  },
  {
   "cell_type": "markdown",
   "metadata": {},
   "source": [
    "**Uniform Cost search** - expands out equally in all directions, may expend additional effort getting to a fairly direct path to the goal.\n",
    "\n",
    "\n",
    "**Greedy best-first search** - expands outward toward locations estimated as closer to the goal. If a direct path is available, expends much less effort than Uniform Cost; however, it does not consider any routes in which it may need to temporarily take a further away path in order to arrive at an overall shorter path.\n",
    "\n",
    "\n",
    "**A* Search** - utilizes both of these - will try to optimize with both the shortest path and the goal in mind. We'll see how this works in the next video. "
   ]
  },
  {
   "cell_type": "markdown",
   "metadata": {},
   "source": [
    "> A* search makes it possible to find the shortest length path while expanding minimum number of paths possible"
   ]
  },
  {
   "cell_type": "markdown",
   "metadata": {},
   "source": [
    "<img src='./figs/q4.png'>\n",
    "\n",
    "> A* finds the lowerst cost path if $h(s) < true cost$\n",
    "\n",
    "* $h$ should never overestimate distance to goal\n",
    "* $h$ is optimistic\n",
    "* $h$ is [admissible](https://en.wikipedia.org/wiki/Admissible_heuristic)"
   ]
  },
  {
   "cell_type": "markdown",
   "metadata": {},
   "source": [
    "[![Video Label](http://img.youtube.com/vi/Q5YJtZc37uc/0.jpg)](https://www.youtube.com/watch?v=Q5YJtZc37uc)\n",
    "\n",
    "It's key to note here than any remaining frontiers outside of our goal path, i.e. any additional unexplored paths, must now have true costs greater than our selected shortest path, p. "
   ]
  },
  {
   "cell_type": "markdown",
   "metadata": {},
   "source": [
    "[![Video Label](http://img.youtube.com/vi/Dzah_49isp8/0.jpg)](https://www.youtube.com/watch?v=Dzah_49isp8)\n",
    "\n",
    "<img src='./figs/q5.png'>\n",
    "\n",
    "> $h1$ never overestimate becuase each misplaced one must move at least one step.\n",
    "\n",
    "> For $h2$, every tile in the wrong place can be moved closer to the correct position, no faster than one space per move.\n",
    "\n",
    "\n",
    "**Note that $h2$ is always greater than or equal to $h1$. Thus, an A* search using $h2$ will always expand fewer paths than one using $h1$.**\n",
    "<br>\n",
    "\n",
    "h2 is always greater than h1 as each misplaced block must always need to move at least a distance of 1, but that distance could be greater than 1.\n",
    "\n",
    "Why does h2 expand fewer nodes than h1?\n",
    "\n",
    "As Peter says, h2 is always greater than or equal to h1. To see why this should expand fewer paths, let's imagine a heuristic h3 that always had the exact cost at every node. This heuristic would naturally expand the least number of nodes, as it would know the actual best path to take at each step.\n",
    "\n",
    "On the other hand, imagine a heuristic h4 that was always 0. This heuristic would expand the most number of nodes of all possible heuristics, as it would have essentially no knowledge of estimated \"distance\" to the goal, and therefore be more similar to Uniform Cost search.\n",
    "\n",
    "You can see then that a heuristic that is strictly greater than or equal to another one (assuming it is still admissible!) gets us closer to the perfect heuristic and thereby expands at least the same number of nodes or fewer."
   ]
  },
  {
   "cell_type": "markdown",
   "metadata": {},
   "source": [
    "[![Video Label](http://img.youtube.com/vi/7vExAvX3LbI/0.jpg)](https://www.youtube.com/watch?time_continue=146&v=7vExAvX3LbI)"
   ]
  },
  {
   "cell_type": "markdown",
   "metadata": {},
   "source": [
    "[![Video Label](http://img.youtube.com/vi/5RmTKsNoG6M/0.jpg)](https://www.youtube.com/watch?v=5RmTKsNoG6M)\n",
    "\n",
    "<img src='./figs/q6.png'>"
   ]
  },
  {
   "cell_type": "markdown",
   "metadata": {},
   "source": [
    "[![Video Label](http://img.youtube.com/vi/P3mkDcB-nqY/0.jpg)](https://www.youtube.com/watch?v=P3mkDcB-nqY)"
   ]
  },
  {
   "cell_type": "code",
   "execution_count": null,
   "metadata": {},
   "outputs": [],
   "source": []
  }
 ],
 "metadata": {
  "kernelspec": {
   "display_name": "Python 3",
   "language": "python",
   "name": "python3"
  },
  "language_info": {
   "codemirror_mode": {
    "name": "ipython",
    "version": 3
   },
   "file_extension": ".py",
   "mimetype": "text/x-python",
   "name": "python",
   "nbconvert_exporter": "python",
   "pygments_lexer": "ipython3",
   "version": "3.6.5"
  }
 },
 "nbformat": 4,
 "nbformat_minor": 2
}
