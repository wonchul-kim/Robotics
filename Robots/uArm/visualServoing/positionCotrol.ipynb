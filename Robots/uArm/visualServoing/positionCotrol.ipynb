{
 "cells": [
  {
   "cell_type": "code",
   "execution_count": 1,
   "metadata": {},
   "outputs": [
    {
     "ename": "ModuleNotFoundError",
     "evalue": "No module named 'pyrealsense2'",
     "output_type": "error",
     "traceback": [
      "\u001b[0;31m---------------------------------------------------------------------------\u001b[0m",
      "\u001b[0;31mModuleNotFoundError\u001b[0m                       Traceback (most recent call last)",
      "\u001b[0;32m<ipython-input-1-2444918af75b>\u001b[0m in \u001b[0;36m<module>\u001b[0;34m\u001b[0m\n\u001b[0;32m----> 1\u001b[0;31m \u001b[0;32mimport\u001b[0m \u001b[0mpyrealsense2\u001b[0m \u001b[0;32mas\u001b[0m \u001b[0mrs\u001b[0m\u001b[0;34m\u001b[0m\u001b[0m\n\u001b[0m\u001b[1;32m      2\u001b[0m \u001b[0;32mimport\u001b[0m \u001b[0mnumpy\u001b[0m \u001b[0;32mas\u001b[0m \u001b[0mnp\u001b[0m\u001b[0;34m\u001b[0m\u001b[0m\n\u001b[1;32m      3\u001b[0m \u001b[0;32mimport\u001b[0m \u001b[0mmatplotlib\u001b[0m\u001b[0;34m.\u001b[0m\u001b[0mpyplot\u001b[0m \u001b[0;32mas\u001b[0m \u001b[0mplt\u001b[0m\u001b[0;34m\u001b[0m\u001b[0m\n\u001b[1;32m      4\u001b[0m \u001b[0;32mfrom\u001b[0m \u001b[0muarm\u001b[0m\u001b[0;34m.\u001b[0m\u001b[0mwrapper\u001b[0m \u001b[0;32mimport\u001b[0m \u001b[0mSwiftAPI\u001b[0m\u001b[0;34m\u001b[0m\u001b[0m\n\u001b[1;32m      5\u001b[0m \u001b[0;32mimport\u001b[0m \u001b[0mcv2\u001b[0m\u001b[0;34m\u001b[0m\u001b[0m\n",
      "\u001b[0;31mModuleNotFoundError\u001b[0m: No module named 'pyrealsense2'"
     ]
    }
   ],
   "source": [
    "import pyrealsense2 as rs\n",
    "import numpy as np\n",
    "import matplotlib.pyplot as plt\n",
    "from uarm.wrapper import SwiftAPI\n",
    "import cv2\n",
    "import imutils\n",
    "from collections import deque\n",
    "import time\n",
    "import pid\n",
    "%matplotlib qt"
   ]
  },
  {
   "cell_type": "code",
   "execution_count": 4,
   "metadata": {},
   "outputs": [],
   "source": [
    "swift = SwiftAPI(filters={'hwid': 'USB VID:PID=2341:0042'})"
   ]
  },
  {
   "cell_type": "code",
   "execution_count": 5,
   "metadata": {},
   "outputs": [],
   "source": [
    "swift.waiting_ready(timeout=3)"
   ]
  },
  {
   "cell_type": "code",
   "execution_count": 6,
   "metadata": {},
   "outputs": [
    {
     "name": "stdout",
     "output_type": "stream",
     "text": [
      "{'api_version': '3.2.0', 'firmware_version': '3.2.0', 'device_unique': '50F14A43C6B1', 'device_type': None, 'hardware_version': None}\n"
     ]
    }
   ],
   "source": [
    "device_info = swift.get_device_info()\n",
    "print(device_info)\n",
    "firmware_version = device_info['firmware_version']\n",
    "if firmware_version and not firmware_version.startswith(('0.', '1.', '2.', '3.')):\n",
    "    swift.set_speed_factor(0.0005)"
   ]
  },
  {
   "cell_type": "code",
   "execution_count": 7,
   "metadata": {},
   "outputs": [
    {
     "data": {
      "text/plain": [
       "0"
      ]
     },
     "execution_count": 7,
     "metadata": {},
     "output_type": "execute_result"
    }
   ],
   "source": [
    "swift.set_mode(0)"
   ]
  },
  {
   "cell_type": "code",
   "execution_count": 8,
   "metadata": {},
   "outputs": [],
   "source": [
    "swift.reset(wait=True, speed=1000)"
   ]
  },
  {
   "cell_type": "code",
   "execution_count": 9,
   "metadata": {},
   "outputs": [
    {
     "data": {
      "text/plain": [
       "'OK'"
      ]
     },
     "execution_count": 9,
     "metadata": {},
     "output_type": "execute_result"
    }
   ],
   "source": [
    "swift.flush_cmd()"
   ]
  },
  {
   "cell_type": "code",
   "execution_count": 10,
   "metadata": {},
   "outputs": [
    {
     "data": {
      "text/plain": [
       "[200.0, 0.0, 150.0]"
      ]
     },
     "execution_count": 10,
     "metadata": {},
     "output_type": "execute_result"
    }
   ],
   "source": [
    "swift.get_position()"
   ]
  },
  {
   "cell_type": "code",
   "execution_count": 11,
   "metadata": {},
   "outputs": [],
   "source": [
    "FRAME_SIZE = [640, 480]"
   ]
  },
  {
   "cell_type": "code",
   "execution_count": 12,
   "metadata": {},
   "outputs": [],
   "source": [
    "pipeline = rs.pipeline()\n",
    "config = rs.config()\n",
    "config.enable_stream(rs.stream.depth, FRAME_SIZE[0], FRAME_SIZE[1], rs.format.z16, 30)\n",
    "config.enable_stream(rs.stream.color, FRAME_SIZE[0], FRAME_SIZE[1], rs.format.bgr8, 30)\n"
   ]
  },
  {
   "cell_type": "code",
   "execution_count": 13,
   "metadata": {},
   "outputs": [],
   "source": [
    "def mapObjectPosition(x, y):\n",
    "    print(\"[INFO] obj. center coord. at x_0 = {0} | y_0 = {1}\".format(x, y))"
   ]
  },
  {
   "cell_type": "code",
   "execution_count": null,
   "metadata": {},
   "outputs": [],
   "source": [
    "def mapServoPosition(x, y, r):\n",
    "    x_ = swift.get_position()[0]\n",
    "    y_ = swift.get_position()[1]\n",
    "    z_ = swift.get_position()[2]\n",
    "    print(x_, y_, z_, r)\n",
    "    \n",
    "    y += 20\n",
    "    \n",
    "    if (r < 80):\n",
    "        x_ += 10    \n",
    "    \n",
    "    if (x < 315):\n",
    "        y_ += 2\n",
    "    \n",
    "    if (x > 325):\n",
    "        y_ -= 2\n",
    "        \n",
    "    if (y < 235):\n",
    "        z_ += 2\n",
    "    \n",
    "    if (y > 245):\n",
    "        z_ -= 2\n",
    "\n",
    "    swift.set_position(x=x_, y=y_, z=z_, speed=100)"
   ]
  },
  {
   "cell_type": "code",
   "execution_count": null,
   "metadata": {
    "scrolled": true
   },
   "outputs": [],
   "source": [
    "lower_range = np.array([0, 150, 150], dtype=np.uint8)\n",
    "upper_range = np.array([64, 255, 255], dtype=np.uint8)\n",
    "\n",
    "pts = deque(maxlen=100)\n",
    "\n",
    "pipeline.start(config)\n",
    "try:\n",
    "    while True:\n",
    "        frames = pipeline.wait_for_frames()\n",
    "        depth_frame = frames.get_depth_frame()\n",
    "        color_frame = frames.get_color_frame()\n",
    "\n",
    "        if not depth_frame or not color_frame:\n",
    "            continue\n",
    "\n",
    "        depth_image = np.asanyarray(depth_frame.get_data())\n",
    "        color_image = np.asanyarray(color_frame.get_data())\n",
    "\n",
    "#         depth_colormap = cv2.applyColorMap(cv2.convertScaleAbs(depth_image, alpha=0.03), cv2.COLORMAP_JET)\n",
    "\n",
    "#         images = np.hstack((color_image, depth_colormap))\n",
    "        \n",
    "\n",
    "        frame = imutils.resize(color_image, width=600)\n",
    "        # frame = imutils.rotate(color_image, angle=180)\n",
    "        \n",
    "        hsv = cv2.cvtColor(color_image, cv2.COLOR_BGR2HSV)\n",
    "        mask = cv2.inRange(hsv, lower_range, upper_range)\n",
    "        mask = cv2.erode(mask, None, iterations=2)\n",
    "        mask = cv2.dilate(mask, None, iterations=2)\n",
    "\n",
    "        _, cnts, _ = cv2.findContours(mask.copy(), cv2.RETR_EXTERNAL, \n",
    "                                cv2.CHAIN_APPROX_SIMPLE)\n",
    "        center = None\n",
    "\n",
    "        if len(cnts) > 0:\n",
    "            c = max(cnts, key=cv2.contourArea)\n",
    "            ((x, y), radius) = cv2.minEnclosingCircle(c)\n",
    "            M = cv2.moments(c)\n",
    "            # print(M)\n",
    "            cx = int(M['m10']/M['m00'])\n",
    "            cy = int(M['m01']/M['m00'])\n",
    "            center = (cx, cy)\n",
    "\n",
    "            if radius > 10:\n",
    "                # draw the circle and centroid on the frame,\n",
    "                # then update the list of tracked points\n",
    "                cv2.circle(frame, (int(x), int(y)), int(radius),\n",
    "                    (0, 255, 255), 2)\n",
    "                cv2.circle(frame, center, 5, (0, 0, 255), -1)\n",
    "\n",
    "                mapObjectPosition(int(x), int(y))\n",
    "                depth = depth_frame.get_distance(int(x), int(y))\n",
    "#                 print(depth)\n",
    "                if not swift.get_is_moving():\n",
    "                    mapServoPosition(x, y, radius)\n",
    "                    swift.flush_cmd()\n",
    "                \n",
    "        pts.appendleft(center)\n",
    "\n",
    "        for i in range(1, len(pts)):\n",
    "            # if either of the tracked points are None, ignore\n",
    "            # them\n",
    "            if pts[i - 1] is None or pts[i] is None:\n",
    "                continue\n",
    "    \n",
    "            # otherwise, compute the thickness of the line and\n",
    "            # draw the connecting lines\n",
    "            thickness = int(np.sqrt(100 / float(i + 1)) * 2.5)\n",
    "            cv2.line(frame, pts[i - 1], pts[i], (0, 0, 255), thickness)\n",
    "\n",
    "            cv2.imshow('Frame', frame)\n",
    "            key = cv2.waitKey(1) & 0xFF\n",
    "            \n",
    "            if key == ord(\"q\"):\n",
    "                    break\n",
    "\n",
    "    cv2.destroyAllWindows()\n",
    "finally:\n",
    "    pipeline.stop()\n"
   ]
  },
  {
   "cell_type": "code",
   "execution_count": null,
   "metadata": {},
   "outputs": [],
   "source": []
  },
  {
   "cell_type": "code",
   "execution_count": null,
   "metadata": {},
   "outputs": [],
   "source": []
  }
 ],
 "metadata": {
  "kernelspec": {
   "display_name": "Python 3",
   "language": "python",
   "name": "python3"
  },
  "language_info": {
   "codemirror_mode": {
    "name": "ipython",
    "version": 3
   },
   "file_extension": ".py",
   "mimetype": "text/x-python",
   "name": "python",
   "nbconvert_exporter": "python",
   "pygments_lexer": "ipython3",
   "version": "3.6.5"
  }
 },
 "nbformat": 4,
 "nbformat_minor": 2
}
