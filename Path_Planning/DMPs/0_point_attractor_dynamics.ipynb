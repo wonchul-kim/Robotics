{
 "cells": [
  {
   "cell_type": "code",
   "execution_count": 1,
   "metadata": {
    "collapsed": true
   },
   "outputs": [],
   "source": [
    "import numpy as np\n",
    "import matplotlib.pyplot as plt"
   ]
  },
  {
   "cell_type": "markdown",
   "metadata": {},
   "source": [
    "It is same to the PD controller"
   ]
  },
  {
   "cell_type": "code",
   "execution_count": 2,
   "metadata": {},
   "outputs": [
    {
     "data": {
      "image/png": "[encoded data removed]",
      "text/plain": [
       "<matplotlib.figure.Figure at 0x7f643558d310>"
      ]
     },
     "metadata": {},
     "output_type": "display_data"
    }
   ],
   "source": [
    "y_0 = 0\n",
    "g = 1\n",
    "a_y = 25.0\n",
    "b_y = a_y/4.0\n",
    "T = 1.0\n",
    "dt = 0.05\n",
    "\n",
    "n_step = int(T/dt)\n",
    "y = y_0\n",
    "dy = 0\n",
    "ddy = 0\n",
    "y_traj = np.zeros(n_step)*y_0\n",
    "dy_traj = np.zeros(n_step)\n",
    "ddy_traj = np.zeros(n_step)\n",
    "\n",
    "for i in range(20):\n",
    "    ddy = a_y*(b_y*(g - y) - dy)    # point attractor dynamics\n",
    "\n",
    "    dy += ddy*dt\n",
    "    y += dy*dt\n",
    "    \n",
    "    y_traj[i] = y\n",
    "    dy_traj[i] = dy\n",
    "    ddy_traj[i] = ddy\n",
    "#     print(i, '------------------')\n",
    "#     print(ddy, dy, y)\n",
    "    \n",
    "plt.figure(1, figsize=(6, 3))\n",
    "plt.plot(np.ones(len(y_traj))*g, 'r--', lw=2)\n",
    "plt.plot(y_traj, lw=2)\n",
    "plt.xlabel('time (ms)')\n",
    "plt.ylabel('system trajectory')\n",
    "plt.ylim([0, 1.1])\n",
    "plt.legend(['goal', 'system state'], loc='lower right')\n",
    "plt.tight_layout()\n",
    "plt.show()"
   ]
  },
  {
   "cell_type": "code",
   "execution_count": null,
   "metadata": {
    "collapsed": true
   },
   "outputs": [],
   "source": []
  }
 ],
 "metadata": {
  "kernelspec": {
   "display_name": "Python 2",
   "language": "python",
   "name": "python2"
  },
  "language_info": {
   "codemirror_mode": {
    "name": "ipython",
    "version": 2
   },
   "file_extension": ".py",
   "mimetype": "text/x-python",
   "name": "python",
   "nbconvert_exporter": "python",
   "pygments_lexer": "ipython2",
   "version": "2.7.12"
  }
 },
 "nbformat": 4,
 "nbformat_minor": 2
}
