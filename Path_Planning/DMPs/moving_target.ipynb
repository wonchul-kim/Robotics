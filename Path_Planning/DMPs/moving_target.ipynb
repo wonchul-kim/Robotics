{
 "cells": [
  {
   "cell_type": "code",
   "execution_count": 28,
   "metadata": {
    "collapsed": true
   },
   "outputs": [],
   "source": [
    "import numpy as np\n",
    "import matplotlib.pyplot as plt\n",
    "import dmp_discrete"
   ]
  },
  {
   "cell_type": "code",
   "execution_count": 98,
   "metadata": {},
   "outputs": [
    {
     "name": "stdout",
     "output_type": "stream",
     "text": [
      "(2, 32)\n"
     ]
    },
    {
     "data": {
      "text/plain": [
       "[<matplotlib.lines.Line2D at 0x7ff1e4967150>]"
      ]
     },
     "execution_count": 98,
     "metadata": {},
     "output_type": "execute_result"
    }
   ],
   "source": [
    "data = np.load('arr_0.npy').T\n",
    "y_des = data - data[:, 0][:, None]\n",
    "\n",
    "y_des = y_des[:, 18:50]\n",
    "print(y_des.shape)\n",
    "a = np.array([[np.linspace(y_des[0, 0], y_des[0, 29], 30)], \n",
    "             [np.linspace(y_des[1, 0], y_des[1, 29], 30)]])\n",
    "a = np.reshape(a, [2, 30])\n",
    "plt.figure(1, figsize=(6, 6))\n",
    "plt.plot(y_des[0, :], y_des[1, :], 'r', lw=2)\n",
    "plt.plot(a[0, :], a[1, :], 'k', lw=2)"
   ]
  },
  {
   "cell_type": "code",
   "execution_count": 99,
   "metadata": {
    "scrolled": false
   },
   "outputs": [
    {
     "data": {
      "image/png": "[encoded data removed]",
      "text/plain": [
       "<matplotlib.figure.Figure at 0x7ff1e4ab40d0>"
      ]
     },
     "metadata": {},
     "output_type": "display_data"
    }
   ],
   "source": [
    "data = np.load('arr_0.npy').T\n",
    "y_des = data - data[:, 0][:, None]\n",
    "y_des = y_des[:, 18:50]\n",
    "\n",
    "runTime = 1.0\n",
    "dt = 0.01\n",
    "n_dmps = 2\n",
    "n_bfs = 500\n",
    "a_y = np.ones(n_dmps)*10.0\n",
    "\n",
    "dmp = dmp_discrete.DMP_discrete(dt=dt, runTime=runTime, n_dmps=n_dmps, n_bfs=n_bfs, a_y=a_y)\n",
    "\n",
    "dmp.imitate_path(y_des=y_des)\n",
    "\n",
    "y = []\n",
    "y_traj = np.zeros((dmp.n_step, dmp.n_dmps))\n",
    "dmp.reset()\n",
    "for i in range(dmp.n_step):\n",
    "    y_traj, _, _ = dmp.step()\n",
    "    y.append(np.copy(y_traj))\n",
    "    \n",
    "    dmp.goal += np.array([1*1e-2, 1*1e-2])\n",
    "y = np.array(y)\n",
    "\n",
    "# plt.figure(1, figsize=(6,6))\n",
    "plt.plot(y_des[0, :], y_des[1, :], 'r', lw=2)\n",
    "plt.plot(y[:, 0], y[:, 1], 'b', lw=2)\n",
    "plt.title('DMP result')\n",
    "plt.axis('equal')\n",
    "plt.xlim([-2, 2])\n",
    "plt.ylim([-2, 2])\n",
    "plt.legend(['reference', 'moving target'])\n",
    "plt.show()\n"
   ]
  },
  {
   "cell_type": "code",
   "execution_count": null,
   "metadata": {
    "collapsed": true
   },
   "outputs": [],
   "source": []
  }
 ],
 "metadata": {
  "kernelspec": {
   "display_name": "Python 2",
   "language": "python",
   "name": "python2"
  },
  "language_info": {
   "codemirror_mode": {
    "name": "ipython",
    "version": 2
   },
   "file_extension": ".py",
   "mimetype": "text/x-python",
   "name": "python",
   "nbconvert_exporter": "python",
   "pygments_lexer": "ipython2",
   "version": "2.7.12"
  }
 },
 "nbformat": 4,
 "nbformat_minor": 2
}
