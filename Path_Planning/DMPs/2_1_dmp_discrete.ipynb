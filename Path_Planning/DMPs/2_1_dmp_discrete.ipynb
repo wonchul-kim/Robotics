{
 "cells": [
  {
   "cell_type": "code",
   "execution_count": 1,
   "metadata": {
    "collapsed": true
   },
   "outputs": [],
   "source": [
    "from dmp import DMPs\n",
    "import numpy as np\n",
    "import matplotlib.pyplot as plt"
   ]
  },
  {
   "cell_type": "code",
   "execution_count": 2,
   "metadata": {
    "collapsed": true
   },
   "outputs": [],
   "source": [
    "class DMP_discrete(DMPs):\n",
    "    def __init__(self, **kwargs):\n",
    "        super(DMP_discrete, self).__init__(pattern='discrete', **kwargs)\n",
    "        \n",
    "        self.bfs_center_term()\n",
    "        \n",
    "        self.h = np.ones(self.n_bfs)*self.n_bfs**1.5/self.c/self.cs.a_x\n",
    "        \n",
    "        self.check_offset()\n",
    "        \n",
    "    def bfs_center_term(self):\n",
    "        \"\"\"\n",
    "        set the center of the Gaussian basis functions \n",
    "        to be spaced envely throughout the whole run time\n",
    "        \"\"\"\n",
    "        \n",
    "        t_des = np.linspace(0, self.cs.runTime, self.n_bfs)\n",
    "        self.c = np.zeros(len(t_des))\n",
    "        for i in range(len(t_des)):\n",
    "            self.c[i] = np.exp(-self.cs.a_x*t_des[i])   # value of the eq. dx = -a_x*x\n",
    "        \n",
    "    def f_front_term(self, x, dmp_idx):\n",
    "        \"\"\"\n",
    "        diminishing term for forcing function\n",
    "        \"\"\"\n",
    "        return x*(self.goal[dmp_idx] - self.y_0[dmp_idx])\n",
    "    \n",
    "    def f_weight_term(self, f_target):\n",
    "        \"\"\"\n",
    "        generate a set of wegihts over the basis functions s.t.\n",
    "        the target forcing term trajectory is matched\n",
    "        \n",
    "        - f_target np.array: desired forcing term trajectory\n",
    "        \"\"\"\n",
    "        x_traj = np.zeros(self.cs.n_step)\n",
    "        for i in range(self.cs.n_step):\n",
    "            x_traj[i] = self.cs.step()\n",
    "        psi_traj = self.gen_psi(x_traj)\n",
    "\n",
    "        # calculate BF weights using weighted linear regression\n",
    "        self.w = np.zeros((self.n_dmps, self.n_bfs))\n",
    "        for j in range(self.n_dmps):\n",
    "            scale = self.goal[j] - self.y_0[j] # spatial scaling term\n",
    "            for k in range(self.n_bfs):\n",
    "                numer = np.sum(x_traj*psi_traj[:, k]*f_target[:, j])\n",
    "                denom = np.sum(x_traj**2*psi_traj[:, k])\n",
    "                self.w[j, k] = numer/(scale*denom)\n",
    "        self.w = np.nan_to_num(self.w)\n",
    "\n",
    "    def gen_psi(self, x):\n",
    "        \"\"\"Generates the activity of the basis functions for a given\n",
    "        canonical system rollout.\n",
    "\n",
    "        x float, array: the canonical system state or path\n",
    "        \"\"\"\n",
    "        if isinstance(x, np.ndarray):\n",
    "            x = x[:, None]\n",
    "\n",
    "        return np.exp(-self.h * (x - self.c)**2)\n",
    "    \n",
    "    def gen_goal(self, y_des):\n",
    "        \"\"\"Generate the goal for path imitation.\n",
    "        For rhythmic DMPs the goal is the average of the\n",
    "        desired trajectory.\n",
    "\n",
    "        y_des np.array: the desired trajectory to follow\n",
    "        \"\"\"\n",
    "\n",
    "        return np.copy(y_des[:, -1])"
   ]
  },
  {
   "cell_type": "markdown",
   "metadata": {},
   "source": [
    "#### W/o forcing term"
   ]
  },
  {
   "cell_type": "code",
   "execution_count": 7,
   "metadata": {},
   "outputs": [
    {
     "data": {
      "image/png": "[encoded data removed]",
      "text/plain": [
       "<matplotlib.figure.Figure at 0x7f392597bb50>"
      ]
     },
     "metadata": {},
     "output_type": "display_data"
    }
   ],
   "source": [
    "# define system parameters w/o forcing term\n",
    "runTime = 1.0\n",
    "dt = 0.05\n",
    "n_dmps = 1\n",
    "n_bfs = 10\n",
    "\n",
    "dmp = DMP_discrete(n_dmps=n_dmps, n_bfs=n_bfs, dt=dt, runTime=runTime)\n",
    "dmp.goal[0] = 3\n",
    "y_traj = np.zeros((dmp.n_step, dmp.n_dmps))\n",
    "dy_traj = np.zeros((dmp.n_step, dmp.n_dmps))\n",
    "ddy_traj = np.zeros((dmp.n_step, dmp.n_dmps))\n",
    "for j in range(dmp.n_step):\n",
    "    y_traj[j, :], dy_traj[j, :], ddy_traj[j, :] = dmp.step()\n",
    "\n",
    "for idx in range(dmp.n_dmps):\n",
    "    plt.figure(idx + 1, figsize=(6, 3))\n",
    "    plt.plot(np.ones(len(y_traj[:, idx]))*dmp.goal[idx], 'r--', lw=2)\n",
    "    plt.plot(y_traj[:, idx], lw=2)\n",
    "    plt.title('DMP w/o forcing term')\n",
    "    plt.xlabel('time')\n",
    "    plt.ylabel('trajectory')\n",
    "    plt.ylim([0, 3.1])\n",
    "    plt.legend(['goal', 'DMP traj.'], loc='lower right')\n",
    "    plt.tight_layout()\n",
    "    plt.show()"
   ]
  },
  {
   "cell_type": "code",
   "execution_count": null,
   "metadata": {
    "collapsed": true
   },
   "outputs": [],
   "source": [
    "y_traj"
   ]
  },
  {
   "cell_type": "markdown",
   "metadata": {},
   "source": [
    "I can see that the result from DMPs w/o forcing term is same to the attractor landscape dynamcis. "
   ]
  },
  {
   "cell_type": "code",
   "execution_count": null,
   "metadata": {
    "collapsed": true
   },
   "outputs": [],
   "source": [
    "# define system parameters w/o forcing term\n",
    "runTime = 1.0\n",
    "dt = 0.05\n",
    "n_dmps = 1\n",
    "n_bfs = 10\n",
    "tau = [1.01, 1.1]\n",
    "\n",
    "\n",
    "dmp = DMP_discrete(n_dmps=n_dmps, n_bfs=n_bfs, dt=dt, runTime=runTime)\n",
    "y_traj = np.zeros((len(tau), dmp.n_step, dmp.n_dmps))\n",
    "dy_traj = np.zeros((len(tau), dmp.n_step, dmp.n_dmps))\n",
    "ddy_traj = np.zeros((len(tau), dmp.n_step, dmp.n_dmps))\n",
    "for l in range(len(tau)):\n",
    "    for i in range(dmp.n_dmps):\n",
    "        for j in range(dmp.n_step):\n",
    "            y_traj[l, j, i], dy_traj[l, j, i], ddy_traj[l, j, i] = dmp.step(tau=tau[l])\n",
    "    if l == 0:\n",
    "        plt.figure(1, figsize=(6, 3))\n",
    "        plt.plot(np.ones(len(y_traj[l, :, 0]))*dmp.goal, 'r--', lw=2)\n",
    "    plt.plot(y_traj[l, :, 0], lw=2)\n",
    "    plt.title('DMP system - no forcing term')\n",
    "    plt.xlabel('time (ms)')\n",
    "    plt.ylabel('system trajectory')\n",
    "    plt.ylim([0, 1.1])\n",
    "    plt.xlim([0, 20])\n",
    "    \n",
    "    plt.tight_layout()\n",
    "    dmp.reset()\n",
    "leg = ['goal']\n",
    "for idx, value in enumerate(tau):\n",
    "    leg.append(value)\n",
    "plt.legend(['%s ' % i for i in leg], loc='lower right')\n",
    "plt.show()\n"
   ]
  },
  {
   "cell_type": "markdown",
   "metadata": {},
   "source": [
    "#### W/ forcing term from imitation learning"
   ]
  },
  {
   "cell_type": "code",
   "execution_count": 12,
   "metadata": {
    "scrolled": false
   },
   "outputs": [
    {
     "data": {
      "image/png": "[encoded data removed]",
      "text/plain": [
       "<matplotlib.figure.Figure at 0x7f3925506590>"
      ]
     },
     "metadata": {},
     "output_type": "display_data"
    }
   ],
   "source": [
    "# define system parameters\n",
    "runTime = 2.0\n",
    "dt = 0.01\n",
    "n_dmps = 2\n",
    "bfs = [10, 100, 10000]\n",
    "n_bfs = len(bfs)\n",
    "\n",
    "# Desired path to follow\n",
    "path1 = np.sin(5*np.arange(0, runTime, dt))\n",
    "path2 = np.zeros(path1.shape)\n",
    "path2[int(len(path2)/2.):] = 0.5\n",
    "# print(path1, path2)\n",
    "\n",
    "for idx, value in enumerate(bfs):\n",
    "    dmp = DMP_discrete(n_dmps=n_dmps, runTime=runTime, dt=dt, n_bfs=value)\n",
    "    \n",
    "    dmp.imitate_path(y_des=np.array([path1, path2]), plot=False)\n",
    "    dmp.goal[0] = 3\n",
    "    dmp.goal[1] = 2\n",
    "    \n",
    "    y_traj = np.zeros((dmp.n_step, dmp.n_dmps))\n",
    "    dy_traj = np.zeros((dmp.n_step, dmp.n_dmps))\n",
    "    ddy_traj = np.zeros((dmp.n_step, dmp.n_dmps))\n",
    "\n",
    "    for i in range(dmp.n_step):\n",
    "#         print('---------', i,'--------')\n",
    "        y_traj[i], dy_traj[i], ddy_traj[i] = dmp.step()\n",
    "#     print('w', dmp.w[0])\n",
    "    \n",
    "    plt.figure(2)\n",
    "    plt.subplot(211)\n",
    "    plt.plot(y_traj[:, 0], lw=2)\n",
    "    plt.subplot(212)\n",
    "    plt.plot(y_traj[:, 1], lw=2)\n",
    "    \n",
    "    \n",
    "plt.subplot(211)\n",
    "plt.plot(path1 / path1[-1] * dmp.goal[0], 'r--', lw=2)\n",
    "plt.title('DMP imitate path')\n",
    "plt.xlabel('time')\n",
    "plt.ylabel('system trajectory')\n",
    "plt.legend(['desired path'], loc='lower right')\n",
    "plt.legend(['%i BFs' % i for i in bfs], loc='lower right')\n",
    "\n",
    "plt.subplot(212)\n",
    "plt.plot(path2 / path2[-1] * dmp.goal[1], 'r--', lw=2)\n",
    "plt.title('DMP imitate path')\n",
    "plt.xlabel('time')\n",
    "plt.ylabel('system trajectory')\n",
    "plt.legend(['%i BFs' % i for i in bfs], loc='lower right')\n",
    "\n",
    "plt.tight_layout()\n",
    "plt.show()"
   ]
  },
  {
   "cell_type": "code",
   "execution_count": null,
   "metadata": {
    "collapsed": true
   },
   "outputs": [],
   "source": [
    "y_traj"
   ]
  },
  {
   "cell_type": "code",
   "execution_count": null,
   "metadata": {
    "collapsed": true
   },
   "outputs": [],
   "source": []
  },
  {
   "cell_type": "code",
   "execution_count": null,
   "metadata": {
    "collapsed": true
   },
   "outputs": [],
   "source": []
  }
 ],
 "metadata": {
  "kernelspec": {
   "display_name": "Python 2",
   "language": "python",
   "name": "python2"
  },
  "language_info": {
   "codemirror_mode": {
    "name": "ipython",
    "version": 2
   },
   "file_extension": ".py",
   "mimetype": "text/x-python",
   "name": "python",
   "nbconvert_exporter": "python",
   "pygments_lexer": "ipython2",
   "version": "2.7.12"
  }
 },
 "nbformat": 4,
 "nbformat_minor": 2
}
